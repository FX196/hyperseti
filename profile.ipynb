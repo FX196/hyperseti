{
 "cells": [
  {
   "cell_type": "code",
   "execution_count": null,
   "id": "7c8b2789",
   "metadata": {},
   "outputs": [],
   "source": [
    "from hyperseti import hyperseti"
   ]
  },
  {
   "cell_type": "code",
   "execution_count": null,
   "id": "e0d97ec2",
   "metadata": {},
   "outputs": [],
   "source": [
    "from matplotlib import pyplot as plt\n",
    "import numpy as np\n",
    "import h5py as h5\n",
    "import cupy as cp\n",
    "import pandas as pd\n",
    "from multiprocessing import Pool\n",
    "import time\n",
    "\n",
    "%matplotlib inline"
   ]
  },
  {
   "cell_type": "code",
   "execution_count": null,
   "id": "a9b64707",
   "metadata": {},
   "outputs": [],
   "source": [
    "file_name = \"GBT_58210_31246_HIP93185_fine.h5\""
   ]
  },
  {
   "cell_type": "code",
   "execution_count": null,
   "id": "de461794",
   "metadata": {},
   "outputs": [],
   "source": [
    "merged_hits = hyperseti.find_et_serial(file_name, gulp_size=2**19, ngulps=20, threshold=25, max_dd=5, freq_start=116048342, merge_boxcar_trials=True, plot=False, apply_normalization=True)\n",
    "merged_hits"
   ]
  },
  {
   "cell_type": "code",
   "execution_count": null,
   "id": "2b0c8ad4",
   "metadata": {},
   "outputs": [],
   "source": [
    "np.max(merged_hits[\"snr\"])"
   ]
  },
  {
   "cell_type": "code",
   "execution_count": null,
   "id": "513ba4eb",
   "metadata": {},
   "outputs": [],
   "source": [
    "hits = hyperseti.find_et_serial(file_name, gulp_size=2**13, ngulps=2, freq_start=(2**20) * 25, merge_boxcar_trials=False)"
   ]
  },
  {
   "cell_type": "code",
   "execution_count": null,
   "id": "73197fde",
   "metadata": {},
   "outputs": [],
   "source": [
    "hits"
   ]
  },
  {
   "cell_type": "code",
   "execution_count": null,
   "id": "5a76c90f",
   "metadata": {},
   "outputs": [],
   "source": [
    "hits.sort_values('snr', ascending=False)"
   ]
  },
  {
   "cell_type": "code",
   "execution_count": null,
   "id": "9223fe8d",
   "metadata": {},
   "outputs": [],
   "source": [
    "t0 = time.time()\n",
    "save = hyperseti.merge_hits_gpu(hits)\n",
    "t1 = time.time()\n",
    "merged_hits = hits[save[0].get()]\n",
    "print(f\"Merge time: {(t1-t0)*1e3:2.2f}ms\")"
   ]
  },
  {
   "cell_type": "code",
   "execution_count": null,
   "id": "5660450e",
   "metadata": {},
   "outputs": [],
   "source": [
    "merged_hits"
   ]
  },
  {
   "cell_type": "code",
   "execution_count": null,
   "id": "d52c0697",
   "metadata": {},
   "outputs": [],
   "source": [
    "np.count_nonzero(save[0].get())"
   ]
  },
  {
   "cell_type": "code",
   "execution_count": null,
   "id": "aa7eba3c",
   "metadata": {},
   "outputs": [],
   "source": [
    "cp.array(hits[\"snr\"], dtype=cp.float32)"
   ]
  },
  {
   "cell_type": "code",
   "execution_count": null,
   "id": "c45f519d",
   "metadata": {},
   "outputs": [],
   "source": [
    "for e in save[0]:\n",
    "    print(e)"
   ]
  },
  {
   "cell_type": "code",
   "execution_count": null,
   "id": "841c2250",
   "metadata": {},
   "outputs": [],
   "source": [
    "hitlist = hits.sort_values(\"channel_idx\", ascending=True)\n",
    "split_arr = hitlist[\"channel_idx\"]\n",
    "splitter = np.expand_dims(np.arange(32) * (2**8), axis=0)\n",
    "x = np.expand_dims(np.array(split_arr), axis=1)\n",
    "inds = ((x > splitter-32) * (x < (splitter + (2**8)+32)))\n",
    "selector = (((np.repeat(np.expand_dims(np.arange(len(hitlist)), axis=1), 32, axis=1))) * inds)\n",
    "np.argmax(selector, axis=0)"
   ]
  },
  {
   "cell_type": "code",
   "execution_count": null,
   "id": "f003e8ce",
   "metadata": {},
   "outputs": [],
   "source": [
    "selector[inds != True] += len(hitlist)"
   ]
  },
  {
   "cell_type": "code",
   "execution_count": null,
   "id": "d32b2599",
   "metadata": {},
   "outputs": [],
   "source": [
    "cp.full((len(hitlist),), True, dtype=cp.bool)"
   ]
  },
  {
   "cell_type": "code",
   "execution_count": null,
   "id": "b15b07f4",
   "metadata": {},
   "outputs": [],
   "source": [
    "hitlist"
   ]
  },
  {
   "cell_type": "code",
   "execution_count": null,
   "id": "c925d78c",
   "metadata": {},
   "outputs": [],
   "source": [
    "np.argmin(selector, axis=0)"
   ]
  },
  {
   "cell_type": "code",
   "execution_count": null,
   "id": "8b0b3eef",
   "metadata": {},
   "outputs": [],
   "source": [
    "selector"
   ]
  },
  {
   "cell_type": "code",
   "execution_count": null,
   "id": "8da4334e",
   "metadata": {},
   "outputs": [],
   "source": [
    "y = hits[\"driftrate_idx\"]\n",
    "x = hits[\"channel_idx\"]\n",
    "plt.scatter(x, y)"
   ]
  },
  {
   "cell_type": "code",
   "execution_count": null,
   "id": "c66ac146",
   "metadata": {},
   "outputs": [],
   "source": [
    "split_len = 2**9\n",
    "splitter = cp.expand_dims(cp.arange(16) * split_len, axis=0)\n",
    "print(splitter.shape)\n",
    "splitter"
   ]
  },
  {
   "cell_type": "code",
   "execution_count": null,
   "id": "cc576383",
   "metadata": {},
   "outputs": [],
   "source": [
    "hits"
   ]
  },
  {
   "cell_type": "code",
   "execution_count": null,
   "id": "03e59181",
   "metadata": {},
   "outputs": [],
   "source": [
    "x_gpu = cp.expand_dims(cp.array(x), axis=1)\n",
    "inds = ((x_gpu > splitter) * (x_gpu < (splitter + 400)))\n",
    "len(hits[inds[:, 0].get()])"
   ]
  },
  {
   "cell_type": "code",
   "execution_count": null,
   "id": "15a32df6",
   "metadata": {},
   "outputs": [],
   "source": [
    "# with Pool(16) as p:"
   ]
  },
  {
   "cell_type": "code",
   "execution_count": null,
   "id": "785fb1a0",
   "metadata": {},
   "outputs": [],
   "source": [
    "sub_lists = [hits[sub_inds] for sub_inds in inds.get().T]"
   ]
  },
  {
   "cell_type": "code",
   "execution_count": null,
   "id": "e8478643",
   "metadata": {},
   "outputs": [],
   "source": [
    "sub_lists[2]"
   ]
  },
  {
   "cell_type": "code",
   "execution_count": null,
   "id": "4992bbd4",
   "metadata": {},
   "outputs": [],
   "source": [
    "pd.concat(sub_lists)"
   ]
  },
  {
   "cell_type": "code",
   "execution_count": null,
   "id": "d9c2002b",
   "metadata": {},
   "outputs": [],
   "source": [
    "cluster_sizes = []\n",
    "for i in range(len(hits)):\n",
    "    p0 = hits.iloc[i]\n",
    "    q = f\"\"\"(abs(driftrate_idx - {p0['driftrate_idx']}) <= boxcar_size + 1  |\n",
    "                    abs(driftrate_idx - {p0['driftrate_idx']}) <= {p0['boxcar_size']} + 1)\n",
    "                    & \n",
    "                    (abs(channel_idx - {p0['channel_idx']}) <= {p0['boxcar_size']} + 1| \n",
    "                    abs(channel_idx - {p0['channel_idx']}) <= boxcar_size + 1)\"\"\"\n",
    "    q = q.replace('\\n', '') # Query must be one line\n",
    "    pq = hits.query(q)\n",
    "    cluster_sizes.append(len(pq))"
   ]
  },
  {
   "cell_type": "code",
   "execution_count": null,
   "id": "c72b04f4",
   "metadata": {},
   "outputs": [],
   "source": [
    "_ = plt.boxplot(cluster_sizes)"
   ]
  },
  {
   "cell_type": "code",
   "execution_count": null,
   "id": "e5bddf87",
   "metadata": {},
   "outputs": [],
   "source": [
    "y = hits[\"driftrate_idx\"]\n",
    "x = hits[\"channel_idx\"]\n",
    "plt.scatter(x, y)\n",
    "\n",
    "y = pq[\"driftrate_idx\"]\n",
    "x = pq[\"channel_idx\"]\n",
    "plt.scatter(x, y)"
   ]
  },
  {
   "cell_type": "code",
   "execution_count": null,
   "id": "b1f0ffe6",
   "metadata": {},
   "outputs": [],
   "source": [
    "f = h5.File(file_name, \"r+\")\n",
    "f[\"data\"].shape"
   ]
  },
  {
   "cell_type": "code",
   "execution_count": null,
   "id": "2fa709df",
   "metadata": {},
   "outputs": [],
   "source": [
    "base = np.random.randint(0, 322961408 - 2**9)\n",
    "d_slice = f[\"data\"][:, 0, base:base + 2**9]\n",
    "plt.imshow(d_slice, aspect=\"auto\")"
   ]
  },
  {
   "cell_type": "code",
   "execution_count": null,
   "id": "d2b1a4e3",
   "metadata": {},
   "outputs": [],
   "source": [
    "print(base)"
   ]
  },
  {
   "cell_type": "code",
   "execution_count": null,
   "id": "a9e75bdb",
   "metadata": {},
   "outputs": [],
   "source": [
    "from hyperseti.hyperseti import *\n",
    "from skimage.exposure import equalize_adapthist\n",
    "\n",
    "max_dd = 1\n",
    "\n",
    "#peaks = create_empty_hits_table()    \n",
    "ds = from_h5(file_name)\n",
    "data_gen = ds.iterate_through_data({'frequency': 2**13})\n",
    "\n",
    "for i in range(10000):\n",
    "    d_arr = next(data_gen)"
   ]
  },
  {
   "cell_type": "code",
   "execution_count": null,
   "id": "d0272c67",
   "metadata": {},
   "outputs": [],
   "source": [
    "search_count = 0\n",
    "out = []\n",
    "for i in range(np.random.randint(200)):\n",
    "    d_arr = next(data_gen)\n",
    "print(d_arr)\n",
    "d = d_arr.data\n",
    "f = d_arr.frequency\n",
    "t = d_arr.time\n",
    "md = {'fch1': f.val_start * f.units, 'df': f.val_step * f.units, 'dt': t.val_step * t.units}\n",
    "# dedopp, metadata, hits = run_pipeline(d, md, max_dd)\n",
    "# out.append(hits)\n",
    "# logger.info(f\"{len(hits)} hits found\")\n",
    "\n",
    "# dframe = pd.concat(out)\n",
    "# dframe.to_csv(filename_out)\n",
    "# t1 = time.time()\n",
    "# print(f\"## TOTAL TIME: {(t1-t0):2.2f}s ##\\n\\n\")\n",
    "plt.imshow(equalize_adapthist(d[:, 0, :] / d.max()), aspect=\"auto\")\n",
    "print(f, t)"
   ]
  },
  {
   "cell_type": "code",
   "execution_count": null,
   "id": "c7fc520b",
   "metadata": {},
   "outputs": [],
   "source": [
    "data = d\n",
    "metadata = md\n",
    "min_dd=None\n",
    "threshold=50\n",
    "min_fdistance=None\n",
    "min_ddistance=None\n",
    "n_boxcar=3\n",
    "merge_boxcar_trials=False\n",
    "apply_normalization=False\n",
    "\n",
    "# t0 = time.time()\n",
    "logger.debug(data.shape)\n",
    "N_timesteps = data.shape[0]\n",
    "_threshold = threshold * np.sqrt(N_timesteps)\n",
    "\n",
    "# Apply preprocessing normalization\n",
    "if apply_normalization:\n",
    "    data = normalize(data, return_space='gpu')\n",
    "\n",
    "\n",
    "peaks = create_empty_hits_table()\n",
    "\n",
    "boxcar_trials = map(int, 2**np.arange(0, n_boxcar))\n",
    "for boxcar_size in boxcar_trials:\n",
    "    logger.info(f\"--- Boxcar size: {boxcar_size} ---\")\n",
    "    dedopp, metadata = dedoppler(data, metadata, boxcar_size=boxcar_size,  boxcar_mode='sum',\n",
    "                                 max_dd=max_dd, min_dd=min_dd, return_space='gpu')\n",
    "\n",
    "    # Adjust SNR threshold to take into account boxcar size and dedoppler sum\n",
    "    # Noise increases by sqrt(N_timesteps * boxcar_size)\n",
    "    _threshold = threshold * np.sqrt(N_timesteps * boxcar_size)\n",
    "    _peaks = hitsearch(dedopp, metadata, threshold=_threshold, min_fdistance=min_fdistance, min_ddistance=min_ddistance)\n",
    "\n",
    "    if _peaks is not None:\n",
    "        _peaks['snr'] /= np.sqrt(N_timesteps * boxcar_size)\n",
    "        peaks = pd.concat((peaks, _peaks), ignore_index=True)\n",
    "\n",
    "if merge_boxcar_trials:\n",
    "    peaks = merge_hits(peaks)\n",
    "\n",
    "# logger.info(f\"Pipeline runtime: {(t1-t0):2.2f}s\")"
   ]
  },
  {
   "cell_type": "code",
   "execution_count": null,
   "id": "1fc18653",
   "metadata": {},
   "outputs": [],
   "source": [
    "peaks.head(3)"
   ]
  },
  {
   "cell_type": "code",
   "execution_count": null,
   "id": "faf15588",
   "metadata": {},
   "outputs": [],
   "source": [
    "from skimage.filters import gaussian\n",
    "dedopp_cpu = dedopp.get()\n",
    "show_dedopp = gaussian(dedopp_cpu, sigma=0)[:, 4700:5000]\n",
    "# show_dedopp = dedopp_cpu[:, :200]\n",
    "\n",
    "plt.imshow(equalize_adapthist(show_dedopp / np.max(show_dedopp)), aspect=\"auto\")"
   ]
  },
  {
   "cell_type": "code",
   "execution_count": null,
   "id": "6a6445f2",
   "metadata": {},
   "outputs": [],
   "source": [
    "dedopp_cpu.shape"
   ]
  },
  {
   "cell_type": "code",
   "execution_count": null,
   "id": "db2b227a",
   "metadata": {},
   "outputs": [],
   "source": [
    "dedopp"
   ]
  },
  {
   "cell_type": "code",
   "execution_count": null,
   "id": "52c17213",
   "metadata": {},
   "outputs": [],
   "source": [
    "a = cp.zeros((3,3))\n",
    "a[1, 1] = 1\n",
    "cp.roll(a, -1, axis=1)"
   ]
  },
  {
   "cell_type": "code",
   "execution_count": null,
   "id": "6d2cff2b",
   "metadata": {},
   "outputs": [],
   "source": []
  }
 ],
 "metadata": {
  "kernelspec": {
   "display_name": "Python 3",
   "language": "python",
   "name": "python3"
  },
  "language_info": {
   "codemirror_mode": {
    "name": "ipython",
    "version": 3
   },
   "file_extension": ".py",
   "mimetype": "text/x-python",
   "name": "python",
   "nbconvert_exporter": "python",
   "pygments_lexer": "ipython3",
   "version": "3.8.2"
  }
 },
 "nbformat": 4,
 "nbformat_minor": 5
}
