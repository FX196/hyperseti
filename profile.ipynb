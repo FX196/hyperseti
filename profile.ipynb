{
 "cells": [
  {
   "cell_type": "code",
   "execution_count": 1,
   "id": "7c8b2789",
   "metadata": {},
   "outputs": [
    {
     "name": "stderr",
     "output_type": "stream",
     "text": [
      "bshuf filter already loaded, skip it.\n",
      "lz4 filter already loaded, skip it.\n",
      "zfp filter already loaded, skip it.\n"
     ]
    }
   ],
   "source": [
    "from hyperseti import hyperseti"
   ]
  },
  {
   "cell_type": "code",
   "execution_count": 2,
   "id": "e0d97ec2",
   "metadata": {},
   "outputs": [],
   "source": [
    "from matplotlib import pyplot as plt\n",
    "import numpy as np\n",
    "import h5py as h5\n",
    "import cupy as cp\n",
    "import pandas as pd\n",
    "from multiprocessing import Pool\n",
    "import time\n",
    "\n",
    "%matplotlib inline"
   ]
  },
  {
   "cell_type": "code",
   "execution_count": 3,
   "id": "a9b64707",
   "metadata": {},
   "outputs": [],
   "source": [
    "file_name = \"GBT_58210_31246_HIP93185_fine.h5\""
   ]
  },
  {
   "cell_type": "code",
   "execution_count": 9,
   "id": "891d21a9",
   "metadata": {},
   "outputs": [
    {
     "name": "stdout",
     "output_type": "stream",
     "text": [
      "[2021-05-13 22:21:54.209899] INFO: hyperseti.hyperseti: Normalisation time: 0.54ms\n",
      "[2021-05-13 22:21:54.212972] INFO: hyperseti.hyperseti: --- Boxcar size: 1 ---\n",
      "[2021-05-13 22:21:54.214573] INFO: hyperseti.hyperseti: Dedopp setup time: 0.61ms\n",
      "[2021-05-13 22:21:54.215829] INFO: hyperseti.hyperseti: Dedopp kernel time: 0.17ms\n",
      "[2021-05-13 22:21:54.364315] INFO: hyperseti.hyperseti: Peak find time: 147.70ms\n",
      "[2021-05-13 22:21:54.364993] INFO: hyperseti.hyperseti: Peak find memcopy: 0.01ms\n",
      "[2021-05-13 22:21:54.365598] INFO: hyperseti.hyperseti: --- Boxcar size: 2 ---\n",
      "[2021-05-13 22:21:54.367029] INFO: hyperseti.hyperseti: Filter time: 0.52ms\n",
      "[2021-05-13 22:21:54.367628] INFO: hyperseti.hyperseti: Dedopp setup time: 1.44ms\n",
      "[2021-05-13 22:21:54.368302] INFO: hyperseti.hyperseti: Dedopp kernel time: 0.13ms\n",
      "[2021-05-13 22:21:54.409852] INFO: hyperseti.hyperseti: Peak find time: 40.87ms\n",
      "[2021-05-13 22:21:54.410509] INFO: hyperseti.hyperseti: Peak find memcopy: 0.01ms\n",
      "[2021-05-13 22:21:54.411124] INFO: hyperseti.hyperseti: --- Boxcar size: 4 ---\n",
      "[2021-05-13 22:21:54.412508] INFO: hyperseti.hyperseti: Filter time: 0.55ms\n",
      "[2021-05-13 22:21:54.413131] INFO: hyperseti.hyperseti: Dedopp setup time: 1.43ms\n",
      "[2021-05-13 22:21:54.413854] INFO: hyperseti.hyperseti: Dedopp kernel time: 0.14ms\n",
      "[2021-05-13 22:21:54.453565] INFO: hyperseti.hyperseti: Peak find time: 38.97ms\n",
      "[2021-05-13 22:21:54.454169] INFO: hyperseti.hyperseti: Peak find memcopy: 0.01ms\n",
      "[2021-05-13 22:21:54.454796] INFO: hyperseti.hyperseti: --- Boxcar size: 8 ---\n",
      "[2021-05-13 22:21:54.456042] INFO: hyperseti.hyperseti: Filter time: 0.43ms\n",
      "[2021-05-13 22:21:54.456648] INFO: hyperseti.hyperseti: Dedopp setup time: 1.27ms\n",
      "[2021-05-13 22:21:54.457361] INFO: hyperseti.hyperseti: Dedopp kernel time: 0.13ms\n",
      "[2021-05-13 22:21:54.497105] INFO: hyperseti.hyperseti: Peak find time: 39.07ms\n",
      "[2021-05-13 22:21:54.497902] INFO: hyperseti.hyperseti: Peak find memcopy: 0.21ms\n",
      "[2021-05-13 22:21:54.500714] INFO: hyperseti.hyperseti: --- Boxcar size: 16 ---\n",
      "[2021-05-13 22:21:54.502168] INFO: hyperseti.hyperseti: Filter time: 0.51ms\n",
      "[2021-05-13 22:21:54.502846] INFO: hyperseti.hyperseti: Dedopp setup time: 1.42ms\n",
      "[2021-05-13 22:21:54.503570] INFO: hyperseti.hyperseti: Dedopp kernel time: 0.14ms\n",
      "[2021-05-13 22:21:54.544954] INFO: hyperseti.hyperseti: Peak find time: 40.70ms\n",
      "[2021-05-13 22:21:54.545756] INFO: hyperseti.hyperseti: Peak find memcopy: 0.21ms\n",
      "[2021-05-13 22:21:54.548388] INFO: hyperseti.hyperseti: --- Boxcar size: 32 ---\n",
      "[2021-05-13 22:21:54.549870] INFO: hyperseti.hyperseti: Filter time: 0.55ms\n",
      "[2021-05-13 22:21:54.550512] INFO: hyperseti.hyperseti: Dedopp setup time: 1.46ms\n",
      "[2021-05-13 22:21:54.551200] INFO: hyperseti.hyperseti: Dedopp kernel time: 0.14ms\n",
      "[2021-05-13 22:21:54.595875] INFO: hyperseti.hyperseti: Peak find time: 43.99ms\n",
      "[2021-05-13 22:21:54.596769] INFO: hyperseti.hyperseti: Peak find memcopy: 0.22ms\n",
      "3\n",
      "[2021-05-13 22:21:54.607562] INFO: hyperseti.hyperseti: Hit merging time: 8.13ms\n",
      "[2021-05-13 22:21:54.608327] INFO: hyperseti.hyperseti: Pipeline runtime: 0.41s\n",
      "[2021-05-13 22:21:54.608945] INFO: hyperseti.hyperseti: 1 hits found\n",
      "[2021-05-13 22:21:54.665977] INFO: hyperseti.hyperseti: Normalisation time: 0.43ms\n",
      "[2021-05-13 22:21:54.668585] INFO: hyperseti.hyperseti: --- Boxcar size: 1 ---\n",
      "[2021-05-13 22:21:54.669686] INFO: hyperseti.hyperseti: Dedopp setup time: 0.35ms\n",
      "[2021-05-13 22:21:54.670538] INFO: hyperseti.hyperseti: Dedopp kernel time: 0.10ms\n",
      "[2021-05-13 22:21:54.799613] INFO: hyperseti.hyperseti: Peak find time: 128.33ms\n",
      "[2021-05-13 22:21:54.800300] INFO: hyperseti.hyperseti: Peak find memcopy: 0.01ms\n",
      "[2021-05-13 22:21:54.800921] INFO: hyperseti.hyperseti: --- Boxcar size: 2 ---\n",
      "[2021-05-13 22:21:54.802391] INFO: hyperseti.hyperseti: Filter time: 0.62ms\n",
      "[2021-05-13 22:21:54.803024] INFO: hyperseti.hyperseti: Dedopp setup time: 1.51ms\n",
      "[2021-05-13 22:21:54.803752] INFO: hyperseti.hyperseti: Dedopp kernel time: 0.14ms\n",
      "[2021-05-13 22:21:54.838418] INFO: hyperseti.hyperseti: Peak find time: 33.96ms\n",
      "[2021-05-13 22:21:54.839364] INFO: hyperseti.hyperseti: Peak find memcopy: 0.43ms\n",
      "[2021-05-13 22:21:54.842009] INFO: hyperseti.hyperseti: --- Boxcar size: 4 ---\n",
      "[2021-05-13 22:21:54.843602] INFO: hyperseti.hyperseti: Filter time: 0.67ms\n",
      "[2021-05-13 22:21:54.844202] INFO: hyperseti.hyperseti: Dedopp setup time: 1.53ms\n",
      "[2021-05-13 22:21:54.844851] INFO: hyperseti.hyperseti: Dedopp kernel time: 0.13ms\n",
      "[2021-05-13 22:21:54.881124] INFO: hyperseti.hyperseti: Peak find time: 35.66ms\n",
      "[2021-05-13 22:21:54.881951] INFO: hyperseti.hyperseti: Peak find memcopy: 0.18ms\n",
      "[2021-05-13 22:21:54.884647] INFO: hyperseti.hyperseti: --- Boxcar size: 8 ---\n",
      "[2021-05-13 22:21:54.886192] INFO: hyperseti.hyperseti: Filter time: 0.57ms\n",
      "[2021-05-13 22:21:54.886854] INFO: hyperseti.hyperseti: Dedopp setup time: 1.49ms\n",
      "[2021-05-13 22:21:54.887573] INFO: hyperseti.hyperseti: Dedopp kernel time: 0.13ms\n",
      "[2021-05-13 22:21:54.924541] INFO: hyperseti.hyperseti: Peak find time: 36.28ms\n",
      "[2021-05-13 22:21:54.925370] INFO: hyperseti.hyperseti: Peak find memcopy: 0.21ms\n",
      "[2021-05-13 22:21:54.928077] INFO: hyperseti.hyperseti: --- Boxcar size: 16 ---\n",
      "[2021-05-13 22:21:54.929546] INFO: hyperseti.hyperseti: Filter time: 0.55ms\n",
      "[2021-05-13 22:21:54.930138] INFO: hyperseti.hyperseti: Dedopp setup time: 1.41ms\n",
      "[2021-05-13 22:21:54.930861] INFO: hyperseti.hyperseti: Dedopp kernel time: 0.14ms\n",
      "[2021-05-13 22:21:54.969991] INFO: hyperseti.hyperseti: Peak find time: 38.44ms\n",
      "[2021-05-13 22:21:54.970898] INFO: hyperseti.hyperseti: Peak find memcopy: 0.27ms\n",
      "[2021-05-13 22:21:54.973579] INFO: hyperseti.hyperseti: --- Boxcar size: 32 ---\n",
      "[2021-05-13 22:21:54.975198] INFO: hyperseti.hyperseti: Filter time: 0.57ms\n",
      "[2021-05-13 22:21:54.975830] INFO: hyperseti.hyperseti: Dedopp setup time: 1.50ms\n",
      "[2021-05-13 22:21:54.976556] INFO: hyperseti.hyperseti: Dedopp kernel time: 0.14ms\n",
      "[2021-05-13 22:21:55.019430] INFO: hyperseti.hyperseti: Peak find time: 42.18ms\n",
      "[2021-05-13 22:21:55.020293] INFO: hyperseti.hyperseti: Peak find memcopy: 0.19ms\n",
      "140\n",
      "[2021-05-13 22:21:55.028221] INFO: hyperseti.hyperseti: Hit merging time: 5.23ms\n",
      "[2021-05-13 22:21:55.028786] INFO: hyperseti.hyperseti: Pipeline runtime: 0.37s\n",
      "[2021-05-13 22:21:55.029392] INFO: hyperseti.hyperseti: 83 hits found\n",
      "[2021-05-13 22:21:55.084082] INFO: hyperseti.hyperseti: Normalisation time: 0.42ms\n",
      "[2021-05-13 22:21:55.086726] INFO: hyperseti.hyperseti: --- Boxcar size: 1 ---\n",
      "[2021-05-13 22:21:55.087898] INFO: hyperseti.hyperseti: Dedopp setup time: 0.36ms\n",
      "[2021-05-13 22:21:55.088714] INFO: hyperseti.hyperseti: Dedopp kernel time: 0.15ms\n",
      "[2021-05-13 22:21:55.217781] INFO: hyperseti.hyperseti: Peak find time: 128.35ms\n",
      "[2021-05-13 22:21:55.218701] INFO: hyperseti.hyperseti: Peak find memcopy: 0.19ms\n",
      "[2021-05-13 22:21:55.221441] INFO: hyperseti.hyperseti: --- Boxcar size: 2 ---\n",
      "[2021-05-13 22:21:55.222920] INFO: hyperseti.hyperseti: Filter time: 0.51ms\n",
      "[2021-05-13 22:21:55.223508] INFO: hyperseti.hyperseti: Dedopp setup time: 1.39ms\n",
      "[2021-05-13 22:21:55.224201] INFO: hyperseti.hyperseti: Dedopp kernel time: 0.14ms\n",
      "[2021-05-13 22:21:55.258981] INFO: hyperseti.hyperseti: Peak find time: 34.05ms\n",
      "[2021-05-13 22:21:55.259572] INFO: hyperseti.hyperseti: Peak find memcopy: 0.15ms\n",
      "[2021-05-13 22:21:55.262044] INFO: hyperseti.hyperseti: --- Boxcar size: 4 ---\n",
      "[2021-05-13 22:21:55.263499] INFO: hyperseti.hyperseti: Filter time: 0.55ms\n",
      "[2021-05-13 22:21:55.264062] INFO: hyperseti.hyperseti: Dedopp setup time: 1.36ms\n",
      "[2021-05-13 22:21:55.264726] INFO: hyperseti.hyperseti: Dedopp kernel time: 0.12ms\n",
      "[2021-05-13 22:21:55.301134] INFO: hyperseti.hyperseti: Peak find time: 35.80ms\n",
      "[2021-05-13 22:21:55.302028] INFO: hyperseti.hyperseti: Peak find memcopy: 0.26ms\n",
      "[2021-05-13 22:21:55.304444] INFO: hyperseti.hyperseti: --- Boxcar size: 8 ---\n",
      "[2021-05-13 22:21:55.305878] INFO: hyperseti.hyperseti: Filter time: 0.55ms\n",
      "[2021-05-13 22:21:55.306545] INFO: hyperseti.hyperseti: Dedopp setup time: 1.47ms\n",
      "[2021-05-13 22:21:55.307260] INFO: hyperseti.hyperseti: Dedopp kernel time: 0.14ms\n",
      "[2021-05-13 22:21:55.344087] INFO: hyperseti.hyperseti: Peak find time: 36.13ms\n",
      "[2021-05-13 22:21:55.344870] INFO: hyperseti.hyperseti: Peak find memcopy: 0.20ms\n"
     ]
    },
    {
     "name": "stdout",
     "output_type": "stream",
     "text": [
      "[2021-05-13 22:21:55.347395] INFO: hyperseti.hyperseti: --- Boxcar size: 16 ---\n",
      "[2021-05-13 22:21:55.348875] INFO: hyperseti.hyperseti: Filter time: 0.54ms\n",
      "[2021-05-13 22:21:55.349466] INFO: hyperseti.hyperseti: Dedopp setup time: 1.38ms\n",
      "[2021-05-13 22:21:55.350142] INFO: hyperseti.hyperseti: Dedopp kernel time: 0.13ms\n",
      "[2021-05-13 22:21:55.388707] INFO: hyperseti.hyperseti: Peak find time: 37.81ms\n",
      "[2021-05-13 22:21:55.389584] INFO: hyperseti.hyperseti: Peak find memcopy: 0.20ms\n",
      "[2021-05-13 22:21:55.392212] INFO: hyperseti.hyperseti: --- Boxcar size: 32 ---\n",
      "[2021-05-13 22:21:55.393689] INFO: hyperseti.hyperseti: Filter time: 0.54ms\n",
      "[2021-05-13 22:21:55.394323] INFO: hyperseti.hyperseti: Dedopp setup time: 1.37ms\n",
      "[2021-05-13 22:21:55.395011] INFO: hyperseti.hyperseti: Dedopp kernel time: 0.13ms\n",
      "[2021-05-13 22:21:55.437050] INFO: hyperseti.hyperseti: Peak find time: 41.35ms\n",
      "[2021-05-13 22:21:55.437944] INFO: hyperseti.hyperseti: Peak find memcopy: 0.20ms\n",
      "66\n",
      "[2021-05-13 22:21:55.673083] INFO: hyperseti.hyperseti: Hit merging time: 232.39ms\n",
      "[2021-05-13 22:21:55.674037] INFO: hyperseti.hyperseti: Pipeline runtime: 0.60s\n",
      "[2021-05-13 22:21:55.674711] INFO: hyperseti.hyperseti: 39 hits found\n",
      "[2021-05-13 22:21:55.728897] INFO: hyperseti.hyperseti: Normalisation time: 0.43ms\n",
      "[2021-05-13 22:21:55.731486] INFO: hyperseti.hyperseti: --- Boxcar size: 1 ---\n",
      "[2021-05-13 22:21:55.732624] INFO: hyperseti.hyperseti: Dedopp setup time: 0.35ms\n",
      "[2021-05-13 22:21:55.733393] INFO: hyperseti.hyperseti: Dedopp kernel time: 0.15ms\n",
      "[2021-05-13 22:21:55.862659] INFO: hyperseti.hyperseti: Peak find time: 128.56ms\n",
      "[2021-05-13 22:21:55.863263] INFO: hyperseti.hyperseti: Peak find memcopy: 0.01ms\n",
      "[2021-05-13 22:21:55.863845] INFO: hyperseti.hyperseti: --- Boxcar size: 2 ---\n",
      "[2021-05-13 22:21:55.865166] INFO: hyperseti.hyperseti: Filter time: 0.42ms\n",
      "[2021-05-13 22:21:55.865770] INFO: hyperseti.hyperseti: Dedopp setup time: 1.27ms\n",
      "[2021-05-13 22:21:55.866529] INFO: hyperseti.hyperseti: Dedopp kernel time: 0.10ms\n",
      "[2021-05-13 22:21:55.901086] INFO: hyperseti.hyperseti: Peak find time: 33.85ms\n",
      "[2021-05-13 22:21:55.901630] INFO: hyperseti.hyperseti: Peak find memcopy: 0.01ms\n",
      "[2021-05-13 22:21:55.902118] INFO: hyperseti.hyperseti: --- Boxcar size: 4 ---\n",
      "[2021-05-13 22:21:55.903392] INFO: hyperseti.hyperseti: Filter time: 0.51ms\n",
      "[2021-05-13 22:21:55.903978] INFO: hyperseti.hyperseti: Dedopp setup time: 1.35ms\n",
      "[2021-05-13 22:21:55.904758] INFO: hyperseti.hyperseti: Dedopp kernel time: 0.16ms\n",
      "[2021-05-13 22:21:55.940658] INFO: hyperseti.hyperseti: Peak find time: 35.13ms\n",
      "[2021-05-13 22:21:55.941342] INFO: hyperseti.hyperseti: Peak find memcopy: 0.01ms\n",
      "[2021-05-13 22:21:55.941954] INFO: hyperseti.hyperseti: --- Boxcar size: 8 ---\n",
      "[2021-05-13 22:21:55.943352] INFO: hyperseti.hyperseti: Filter time: 0.48ms\n",
      "[2021-05-13 22:21:55.943955] INFO: hyperseti.hyperseti: Dedopp setup time: 1.36ms\n",
      "[2021-05-13 22:21:55.944722] INFO: hyperseti.hyperseti: Dedopp kernel time: 0.13ms\n",
      "[2021-05-13 22:21:55.981010] INFO: hyperseti.hyperseti: Peak find time: 35.60ms\n",
      "[2021-05-13 22:21:55.981604] INFO: hyperseti.hyperseti: Peak find memcopy: 0.01ms\n",
      "[2021-05-13 22:21:55.982188] INFO: hyperseti.hyperseti: --- Boxcar size: 16 ---\n",
      "[2021-05-13 22:21:55.983473] INFO: hyperseti.hyperseti: Filter time: 0.43ms\n",
      "[2021-05-13 22:21:55.984059] INFO: hyperseti.hyperseti: Dedopp setup time: 1.25ms\n",
      "[2021-05-13 22:21:55.984832] INFO: hyperseti.hyperseti: Dedopp kernel time: 0.14ms\n",
      "[2021-05-13 22:21:56.022250] INFO: hyperseti.hyperseti: Peak find time: 36.73ms\n",
      "[2021-05-13 22:21:56.022838] INFO: hyperseti.hyperseti: Peak find memcopy: 0.01ms\n",
      "[2021-05-13 22:21:56.023420] INFO: hyperseti.hyperseti: --- Boxcar size: 32 ---\n",
      "[2021-05-13 22:21:56.024799] INFO: hyperseti.hyperseti: Filter time: 0.55ms\n",
      "[2021-05-13 22:21:56.025422] INFO: hyperseti.hyperseti: Dedopp setup time: 1.43ms\n",
      "[2021-05-13 22:21:56.026146] INFO: hyperseti.hyperseti: Dedopp kernel time: 0.14ms\n",
      "[2021-05-13 22:21:56.066123] INFO: hyperseti.hyperseti: Peak find time: 39.24ms\n",
      "[2021-05-13 22:21:56.066770] INFO: hyperseti.hyperseti: Peak find memcopy: 0.01ms\n",
      "0\n",
      "[2021-05-13 22:21:56.068170] INFO: hyperseti.hyperseti: Hit merging time: 0.79ms\n",
      "[2021-05-13 22:21:56.068879] INFO: hyperseti.hyperseti: Pipeline runtime: 0.35s\n",
      "[2021-05-13 22:21:56.069488] INFO: hyperseti.hyperseti: 0 hits found\n",
      "## TOTAL TIME: 1.99s ##\n",
      "\n",
      "\n"
     ]
    },
    {
     "data": {
      "text/html": [
       "<div>\n",
       "<style scoped>\n",
       "    .dataframe tbody tr th:only-of-type {\n",
       "        vertical-align: middle;\n",
       "    }\n",
       "\n",
       "    .dataframe tbody tr th {\n",
       "        vertical-align: top;\n",
       "    }\n",
       "\n",
       "    .dataframe thead th {\n",
       "        text-align: right;\n",
       "    }\n",
       "</style>\n",
       "<table border=\"1\" class=\"dataframe\">\n",
       "  <thead>\n",
       "    <tr style=\"text-align: right;\">\n",
       "      <th></th>\n",
       "      <th>driftrate</th>\n",
       "      <th>f_start</th>\n",
       "      <th>snr</th>\n",
       "      <th>driftrate_idx</th>\n",
       "      <th>channel_idx</th>\n",
       "      <th>boxcar_size</th>\n",
       "    </tr>\n",
       "  </thead>\n",
       "  <tbody>\n",
       "    <tr>\n",
       "      <th>0</th>\n",
       "      <td>0.038266</td>\n",
       "      <td>1926.000000</td>\n",
       "      <td>92.961075</td>\n",
       "      <td>108.0</td>\n",
       "      <td>96469.0</td>\n",
       "      <td>8.0</td>\n",
       "    </tr>\n",
       "    <tr>\n",
       "      <th>112</th>\n",
       "      <td>-0.076532</td>\n",
       "      <td>1924.995074</td>\n",
       "      <td>40.213383</td>\n",
       "      <td>96.0</td>\n",
       "      <td>194002.0</td>\n",
       "      <td>32.0</td>\n",
       "    </tr>\n",
       "    <tr>\n",
       "      <th>121</th>\n",
       "      <td>0.019133</td>\n",
       "      <td>1924.994865</td>\n",
       "      <td>41.135796</td>\n",
       "      <td>106.0</td>\n",
       "      <td>194077.0</td>\n",
       "      <td>32.0</td>\n",
       "    </tr>\n",
       "    <tr>\n",
       "      <th>113</th>\n",
       "      <td>-0.038266</td>\n",
       "      <td>1924.994571</td>\n",
       "      <td>42.012623</td>\n",
       "      <td>100.0</td>\n",
       "      <td>194182.0</td>\n",
       "      <td>32.0</td>\n",
       "    </tr>\n",
       "    <tr>\n",
       "      <th>97</th>\n",
       "      <td>-0.908817</td>\n",
       "      <td>1924.994431</td>\n",
       "      <td>41.416332</td>\n",
       "      <td>9.0</td>\n",
       "      <td>194232.0</td>\n",
       "      <td>32.0</td>\n",
       "    </tr>\n",
       "    <tr>\n",
       "      <th>...</th>\n",
       "      <td>...</td>\n",
       "      <td>...</td>\n",
       "      <td>...</td>\n",
       "      <td>...</td>\n",
       "      <td>...</td>\n",
       "      <td>...</td>\n",
       "    </tr>\n",
       "    <tr>\n",
       "      <th>4</th>\n",
       "      <td>-0.994915</td>\n",
       "      <td>1924.072464</td>\n",
       "      <td>128.026627</td>\n",
       "      <td>0.0</td>\n",
       "      <td>262073.0</td>\n",
       "      <td>1.0</td>\n",
       "    </tr>\n",
       "    <tr>\n",
       "      <th>3</th>\n",
       "      <td>-0.937516</td>\n",
       "      <td>1924.072470</td>\n",
       "      <td>128.009445</td>\n",
       "      <td>6.0</td>\n",
       "      <td>262071.0</td>\n",
       "      <td>1.0</td>\n",
       "    </tr>\n",
       "    <tr>\n",
       "      <th>36</th>\n",
       "      <td>0.956649</td>\n",
       "      <td>1924.804461</td>\n",
       "      <td>128.008850</td>\n",
       "      <td>204.0</td>\n",
       "      <td>81.0</td>\n",
       "      <td>1.0</td>\n",
       "    </tr>\n",
       "    <tr>\n",
       "      <th>2</th>\n",
       "      <td>-0.985348</td>\n",
       "      <td>1924.072481</td>\n",
       "      <td>128.008255</td>\n",
       "      <td>1.0</td>\n",
       "      <td>262067.0</td>\n",
       "      <td>1.0</td>\n",
       "    </tr>\n",
       "    <tr>\n",
       "      <th>38</th>\n",
       "      <td>0.908817</td>\n",
       "      <td>1924.804439</td>\n",
       "      <td>127.916763</td>\n",
       "      <td>199.0</td>\n",
       "      <td>89.0</td>\n",
       "      <td>1.0</td>\n",
       "    </tr>\n",
       "  </tbody>\n",
       "</table>\n",
       "<p>123 rows × 6 columns</p>\n",
       "</div>"
      ],
      "text/plain": [
       "     driftrate      f_start         snr  driftrate_idx  channel_idx  \\\n",
       "0     0.038266  1926.000000   92.961075          108.0      96469.0   \n",
       "112  -0.076532  1924.995074   40.213383           96.0     194002.0   \n",
       "121   0.019133  1924.994865   41.135796          106.0     194077.0   \n",
       "113  -0.038266  1924.994571   42.012623          100.0     194182.0   \n",
       "97   -0.908817  1924.994431   41.416332            9.0     194232.0   \n",
       "..         ...          ...         ...            ...          ...   \n",
       "4    -0.994915  1924.072464  128.026627            0.0     262073.0   \n",
       "3    -0.937516  1924.072470  128.009445            6.0     262071.0   \n",
       "36    0.956649  1924.804461  128.008850          204.0         81.0   \n",
       "2    -0.985348  1924.072481  128.008255            1.0     262067.0   \n",
       "38    0.908817  1924.804439  127.916763          199.0         89.0   \n",
       "\n",
       "     boxcar_size  \n",
       "0            8.0  \n",
       "112         32.0  \n",
       "121         32.0  \n",
       "113         32.0  \n",
       "97          32.0  \n",
       "..           ...  \n",
       "4            1.0  \n",
       "3            1.0  \n",
       "36           1.0  \n",
       "2            1.0  \n",
       "38           1.0  \n",
       "\n",
       "[123 rows x 6 columns]"
      ]
     },
     "execution_count": 9,
     "metadata": {},
     "output_type": "execute_result"
    }
   ],
   "source": [
    "merged_hits = hyperseti.find_et_serial(file_name, gulp_size=2**18, max_dd=1, ngulps=4, threshold=40, merge_boxcar_trials=True, plot=False, apply_normalization=True)\n",
    "merged_hits"
   ]
  },
  {
   "cell_type": "code",
   "execution_count": null,
   "id": "1120f115",
   "metadata": {},
   "outputs": [],
   "source": [
    "np.max(merged_hits[\"snr\"])"
   ]
  },
  {
   "cell_type": "code",
   "execution_count": null,
   "id": "513ba4eb",
   "metadata": {},
   "outputs": [],
   "source": [
    "hits = hyperseti.find_et_serial(file_name, gulp_size=2**13, ngulps=2, freq_start=(2**20) * 25, merge_boxcar_trials=False)"
   ]
  },
  {
   "cell_type": "code",
   "execution_count": null,
   "id": "7def277f",
   "metadata": {},
   "outputs": [],
   "source": [
    "hits"
   ]
  },
  {
   "cell_type": "code",
   "execution_count": null,
   "id": "5a76c90f",
   "metadata": {},
   "outputs": [],
   "source": [
    "hits.sort_values('snr', ascending=False)"
   ]
  },
  {
   "cell_type": "code",
   "execution_count": null,
   "id": "2e56deec",
   "metadata": {},
   "outputs": [],
   "source": [
    "t0 = time.time()\n",
    "save = hyperseti.merge_hits_gpu(hits)\n",
    "t1 = time.time()\n",
    "merged_hits = hits[save[0].get()]\n",
    "print(f\"Merge time: {(t1-t0)*1e3:2.2f}ms\")"
   ]
  },
  {
   "cell_type": "code",
   "execution_count": null,
   "id": "079ecec5",
   "metadata": {},
   "outputs": [],
   "source": [
    "merged_hits"
   ]
  },
  {
   "cell_type": "code",
   "execution_count": null,
   "id": "e6ea2fca",
   "metadata": {},
   "outputs": [],
   "source": [
    "np.count_nonzero(save[0].get())"
   ]
  },
  {
   "cell_type": "code",
   "execution_count": null,
   "id": "922fd7f2",
   "metadata": {},
   "outputs": [],
   "source": [
    "cp.array(hits[\"snr\"], dtype=cp.float32)"
   ]
  },
  {
   "cell_type": "code",
   "execution_count": null,
   "id": "13dd1d04",
   "metadata": {},
   "outputs": [],
   "source": [
    "for e in save[0]:\n",
    "    print(e)"
   ]
  },
  {
   "cell_type": "code",
   "execution_count": null,
   "id": "4b28a546",
   "metadata": {},
   "outputs": [],
   "source": [
    "hitlist = hits.sort_values(\"channel_idx\", ascending=True)\n",
    "split_arr = hitlist[\"channel_idx\"]\n",
    "splitter = np.expand_dims(np.arange(32) * (2**8), axis=0)\n",
    "x = np.expand_dims(np.array(split_arr), axis=1)\n",
    "inds = ((x > splitter-32) * (x < (splitter + (2**8)+32)))\n",
    "selector = (((np.repeat(np.expand_dims(np.arange(len(hitlist)), axis=1), 32, axis=1))) * inds)\n",
    "np.argmax(selector, axis=0)"
   ]
  },
  {
   "cell_type": "code",
   "execution_count": null,
   "id": "7a1db047",
   "metadata": {},
   "outputs": [],
   "source": [
    "selector[inds != True] += len(hitlist)"
   ]
  },
  {
   "cell_type": "code",
   "execution_count": null,
   "id": "7895e54b",
   "metadata": {},
   "outputs": [],
   "source": [
    "cp.full((len(hitlist),), True, dtype=cp.bool)"
   ]
  },
  {
   "cell_type": "code",
   "execution_count": null,
   "id": "17ec50f7",
   "metadata": {},
   "outputs": [],
   "source": [
    "hitlist"
   ]
  },
  {
   "cell_type": "code",
   "execution_count": null,
   "id": "8e6b79f1",
   "metadata": {},
   "outputs": [],
   "source": [
    "np.argmin(selector, axis=0)"
   ]
  },
  {
   "cell_type": "code",
   "execution_count": null,
   "id": "f4c3aa7d",
   "metadata": {},
   "outputs": [],
   "source": [
    "selector"
   ]
  },
  {
   "cell_type": "code",
   "execution_count": null,
   "id": "8da4334e",
   "metadata": {},
   "outputs": [],
   "source": [
    "y = hits[\"driftrate_idx\"]\n",
    "x = hits[\"channel_idx\"]\n",
    "plt.scatter(x, y)"
   ]
  },
  {
   "cell_type": "code",
   "execution_count": null,
   "id": "c66ac146",
   "metadata": {},
   "outputs": [],
   "source": [
    "split_len = 2**9\n",
    "splitter = cp.expand_dims(cp.arange(16) * split_len, axis=0)\n",
    "print(splitter.shape)\n",
    "splitter"
   ]
  },
  {
   "cell_type": "code",
   "execution_count": null,
   "id": "cc576383",
   "metadata": {},
   "outputs": [],
   "source": [
    "hits"
   ]
  },
  {
   "cell_type": "code",
   "execution_count": null,
   "id": "03e59181",
   "metadata": {},
   "outputs": [],
   "source": [
    "x_gpu = cp.expand_dims(cp.array(x), axis=1)\n",
    "inds = ((x_gpu > splitter) * (x_gpu < (splitter + 400)))\n",
    "len(hits[inds[:, 0].get()])"
   ]
  },
  {
   "cell_type": "code",
   "execution_count": null,
   "id": "15a32df6",
   "metadata": {},
   "outputs": [],
   "source": [
    "# with Pool(16) as p:"
   ]
  },
  {
   "cell_type": "code",
   "execution_count": null,
   "id": "785fb1a0",
   "metadata": {},
   "outputs": [],
   "source": [
    "sub_lists = [hits[sub_inds] for sub_inds in inds.get().T]"
   ]
  },
  {
   "cell_type": "code",
   "execution_count": null,
   "id": "e8478643",
   "metadata": {},
   "outputs": [],
   "source": [
    "sub_lists[2]"
   ]
  },
  {
   "cell_type": "code",
   "execution_count": null,
   "id": "4992bbd4",
   "metadata": {},
   "outputs": [],
   "source": [
    "pd.concat(sub_lists)"
   ]
  },
  {
   "cell_type": "code",
   "execution_count": null,
   "id": "d9c2002b",
   "metadata": {},
   "outputs": [],
   "source": [
    "cluster_sizes = []\n",
    "for i in range(len(hits)):\n",
    "    p0 = hits.iloc[i]\n",
    "    q = f\"\"\"(abs(driftrate_idx - {p0['driftrate_idx']}) <= boxcar_size + 1  |\n",
    "                    abs(driftrate_idx - {p0['driftrate_idx']}) <= {p0['boxcar_size']} + 1)\n",
    "                    & \n",
    "                    (abs(channel_idx - {p0['channel_idx']}) <= {p0['boxcar_size']} + 1| \n",
    "                    abs(channel_idx - {p0['channel_idx']}) <= boxcar_size + 1)\"\"\"\n",
    "    q = q.replace('\\n', '') # Query must be one line\n",
    "    pq = hits.query(q)\n",
    "    cluster_sizes.append(len(pq))"
   ]
  },
  {
   "cell_type": "code",
   "execution_count": null,
   "id": "c72b04f4",
   "metadata": {},
   "outputs": [],
   "source": [
    "_ = plt.boxplot(cluster_sizes)"
   ]
  },
  {
   "cell_type": "code",
   "execution_count": null,
   "id": "e5bddf87",
   "metadata": {},
   "outputs": [],
   "source": [
    "y = hits[\"driftrate_idx\"]\n",
    "x = hits[\"channel_idx\"]\n",
    "plt.scatter(x, y)\n",
    "\n",
    "y = pq[\"driftrate_idx\"]\n",
    "x = pq[\"channel_idx\"]\n",
    "plt.scatter(x, y)"
   ]
  },
  {
   "cell_type": "code",
   "execution_count": null,
   "id": "b1f0ffe6",
   "metadata": {},
   "outputs": [],
   "source": [
    "f = h5.File(file_name, \"r+\")\n",
    "f[\"data\"].shape"
   ]
  },
  {
   "cell_type": "code",
   "execution_count": null,
   "id": "2fa709df",
   "metadata": {},
   "outputs": [],
   "source": [
    "base = np.random.randint(0, 322961408 - 2**9)\n",
    "d_slice = f[\"data\"][:, 0, base:base + 2**9]\n",
    "plt.imshow(d_slice, aspect=\"auto\")"
   ]
  },
  {
   "cell_type": "code",
   "execution_count": null,
   "id": "d2b1a4e3",
   "metadata": {},
   "outputs": [],
   "source": [
    "print(base)"
   ]
  },
  {
   "cell_type": "code",
   "execution_count": null,
   "id": "a9e75bdb",
   "metadata": {},
   "outputs": [],
   "source": [
    "from hyperseti.hyperseti import *\n",
    "from skimage.exposure import equalize_adapthist\n",
    "\n",
    "max_dd = 1\n",
    "\n",
    "#peaks = create_empty_hits_table()    \n",
    "ds = from_h5(file_name)\n",
    "data_gen = ds.iterate_through_data({'frequency': 2**13})\n",
    "\n",
    "for i in range(10000):\n",
    "    d_arr = next(data_gen)"
   ]
  },
  {
   "cell_type": "code",
   "execution_count": null,
   "id": "d0272c67",
   "metadata": {},
   "outputs": [],
   "source": [
    "search_count = 0\n",
    "out = []\n",
    "for i in range(np.random.randint(200)):\n",
    "    d_arr = next(data_gen)\n",
    "print(d_arr)\n",
    "d = d_arr.data\n",
    "f = d_arr.frequency\n",
    "t = d_arr.time\n",
    "md = {'fch1': f.val_start * f.units, 'df': f.val_step * f.units, 'dt': t.val_step * t.units}\n",
    "# dedopp, metadata, hits = run_pipeline(d, md, max_dd)\n",
    "# out.append(hits)\n",
    "# logger.info(f\"{len(hits)} hits found\")\n",
    "\n",
    "# dframe = pd.concat(out)\n",
    "# dframe.to_csv(filename_out)\n",
    "# t1 = time.time()\n",
    "# print(f\"## TOTAL TIME: {(t1-t0):2.2f}s ##\\n\\n\")\n",
    "plt.imshow(equalize_adapthist(d[:, 0, :] / d.max()), aspect=\"auto\")\n",
    "print(f, t)"
   ]
  },
  {
   "cell_type": "code",
   "execution_count": null,
   "id": "c7fc520b",
   "metadata": {},
   "outputs": [],
   "source": [
    "data = d\n",
    "metadata = md\n",
    "min_dd=None\n",
    "threshold=50\n",
    "min_fdistance=None\n",
    "min_ddistance=None\n",
    "n_boxcar=3\n",
    "merge_boxcar_trials=False\n",
    "apply_normalization=False\n",
    "\n",
    "# t0 = time.time()\n",
    "logger.debug(data.shape)\n",
    "N_timesteps = data.shape[0]\n",
    "_threshold = threshold * np.sqrt(N_timesteps)\n",
    "\n",
    "# Apply preprocessing normalization\n",
    "if apply_normalization:\n",
    "    data = normalize(data, return_space='gpu')\n",
    "\n",
    "\n",
    "peaks = create_empty_hits_table()\n",
    "\n",
    "boxcar_trials = map(int, 2**np.arange(0, n_boxcar))\n",
    "for boxcar_size in boxcar_trials:\n",
    "    logger.info(f\"--- Boxcar size: {boxcar_size} ---\")\n",
    "    dedopp, metadata = dedoppler(data, metadata, boxcar_size=boxcar_size,  boxcar_mode='sum',\n",
    "                                 max_dd=max_dd, min_dd=min_dd, return_space='gpu')\n",
    "\n",
    "    # Adjust SNR threshold to take into account boxcar size and dedoppler sum\n",
    "    # Noise increases by sqrt(N_timesteps * boxcar_size)\n",
    "    _threshold = threshold * np.sqrt(N_timesteps * boxcar_size)\n",
    "    _peaks = hitsearch(dedopp, metadata, threshold=_threshold, min_fdistance=min_fdistance, min_ddistance=min_ddistance)\n",
    "\n",
    "    if _peaks is not None:\n",
    "        _peaks['snr'] /= np.sqrt(N_timesteps * boxcar_size)\n",
    "        peaks = pd.concat((peaks, _peaks), ignore_index=True)\n",
    "\n",
    "if merge_boxcar_trials:\n",
    "    peaks = merge_hits(peaks)\n",
    "\n",
    "# logger.info(f\"Pipeline runtime: {(t1-t0):2.2f}s\")"
   ]
  },
  {
   "cell_type": "code",
   "execution_count": null,
   "id": "1fc18653",
   "metadata": {},
   "outputs": [],
   "source": [
    "peaks.head(3)"
   ]
  },
  {
   "cell_type": "code",
   "execution_count": null,
   "id": "faf15588",
   "metadata": {},
   "outputs": [],
   "source": [
    "from skimage.filters import gaussian\n",
    "dedopp_cpu = dedopp.get()\n",
    "show_dedopp = gaussian(dedopp_cpu, sigma=0)[:, 4700:5000]\n",
    "# show_dedopp = dedopp_cpu[:, :200]\n",
    "\n",
    "plt.imshow(equalize_adapthist(show_dedopp / np.max(show_dedopp)), aspect=\"auto\")"
   ]
  },
  {
   "cell_type": "code",
   "execution_count": null,
   "id": "6a6445f2",
   "metadata": {},
   "outputs": [],
   "source": [
    "dedopp_cpu.shape"
   ]
  },
  {
   "cell_type": "code",
   "execution_count": null,
   "id": "db2b227a",
   "metadata": {},
   "outputs": [],
   "source": [
    "dedopp"
   ]
  },
  {
   "cell_type": "code",
   "execution_count": null,
   "id": "52c17213",
   "metadata": {},
   "outputs": [],
   "source": [
    "a = cp.zeros((3,3))\n",
    "a[1, 1] = 1\n",
    "cp.roll(a, -1, axis=1)"
   ]
  },
  {
   "cell_type": "code",
   "execution_count": null,
   "id": "6d2cff2b",
   "metadata": {},
   "outputs": [],
   "source": []
  }
 ],
 "metadata": {
  "kernelspec": {
   "display_name": "Python 3",
   "language": "python",
   "name": "python3"
  },
  "language_info": {
   "codemirror_mode": {
    "name": "ipython",
    "version": 3
   },
   "file_extension": ".py",
   "mimetype": "text/x-python",
   "name": "python",
   "nbconvert_exporter": "python",
   "pygments_lexer": "ipython3",
   "version": "3.8.2"
  }
 },
 "nbformat": 4,
 "nbformat_minor": 5
}
