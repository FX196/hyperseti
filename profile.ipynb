{
 "cells": [
  {
   "cell_type": "code",
   "execution_count": 1,
   "id": "7c8b2789",
   "metadata": {},
   "outputs": [
    {
     "name": "stderr",
     "output_type": "stream",
     "text": [
      "bshuf filter already loaded, skip it.\n",
      "lz4 filter already loaded, skip it.\n",
      "zfp filter already loaded, skip it.\n"
     ]
    }
   ],
   "source": [
    "from hyperseti import hyperseti"
   ]
  },
  {
   "cell_type": "code",
   "execution_count": 2,
   "id": "e0d97ec2",
   "metadata": {},
   "outputs": [],
   "source": [
    "from matplotlib import pyplot as plt\n",
    "import numpy as np\n",
    "import h5py as h5\n",
    "import cupy as cp\n",
    "import pandas as pd\n",
    "from multiprocessing import Pool\n",
    "import time\n",
    "\n",
    "%matplotlib inline"
   ]
  },
  {
   "cell_type": "code",
   "execution_count": 3,
   "id": "a9b64707",
   "metadata": {},
   "outputs": [],
   "source": [
    "file_name = \"GBT_58210_31246_HIP93185_fine.h5\""
   ]
  },
  {
   "cell_type": "code",
   "execution_count": 9,
   "id": "2e849c87",
   "metadata": {},
   "outputs": [
    {
     "name": "stdout",
     "output_type": "stream",
     "text": [
      "<DataArray: shape=(16, 1, 8192), dims=('time', 'feed_id', 'frequency')>\n",
      "[2021-05-09 01:53:43.991800] INFO: hyperseti.hyperseti: --- Boxcar size: 1 ---\n",
      "[2021-05-09 01:53:43.993706] INFO: hyperseti.hyperseti: Dedopp setup time: 1.03ms\n",
      "[2021-05-09 01:53:43.994867] INFO: hyperseti.hyperseti: Dedopp kernel time: 0.19ms\n",
      "[2021-05-09 01:53:43.998142] INFO: hyperseti.hyperseti: Peak find time: 2.16ms\n",
      "[2021-05-09 01:53:43.999711] INFO: hyperseti.hyperseti: Peak find memcopy: 0.36ms\n",
      "[2021-05-09 01:53:44.005701] INFO: hyperseti.hyperseti: --- Boxcar size: 2 ---\n",
      "[2021-05-09 01:53:44.007402] INFO: hyperseti.hyperseti: Filter time: 0.28ms\n",
      "[2021-05-09 01:53:44.008050] INFO: hyperseti.hyperseti: Dedopp setup time: 1.46ms\n",
      "[2021-05-09 01:53:44.008721] INFO: hyperseti.hyperseti: Dedopp kernel time: 0.10ms\n",
      "[2021-05-09 01:53:44.010866] INFO: hyperseti.hyperseti: Peak find time: 1.46ms\n",
      "[2021-05-09 01:53:44.011881] INFO: hyperseti.hyperseti: Peak find memcopy: 0.38ms\n",
      "[2021-05-09 01:53:44.015650] INFO: hyperseti.hyperseti: --- Boxcar size: 4 ---\n",
      "[2021-05-09 01:53:44.017389] INFO: hyperseti.hyperseti: Filter time: 0.24ms\n",
      "[2021-05-09 01:53:44.018302] INFO: hyperseti.hyperseti: Dedopp setup time: 1.83ms\n",
      "[2021-05-09 01:53:44.019714] INFO: hyperseti.hyperseti: Dedopp kernel time: 0.57ms\n",
      "[2021-05-09 01:53:44.022095] INFO: hyperseti.hyperseti: Peak find time: 1.55ms\n",
      "[2021-05-09 01:53:44.023346] INFO: hyperseti.hyperseti: Peak find memcopy: 0.30ms\n",
      "[2021-05-09 01:53:44.029123] INFO: hyperseti.hyperseti: --- Boxcar size: 8 ---\n",
      "[2021-05-09 01:53:44.030525] INFO: hyperseti.hyperseti: Filter time: 0.27ms\n",
      "[2021-05-09 01:53:44.031158] INFO: hyperseti.hyperseti: Dedopp setup time: 1.45ms\n",
      "[2021-05-09 01:53:44.031795] INFO: hyperseti.hyperseti: Dedopp kernel time: 0.10ms\n",
      "[2021-05-09 01:53:44.034408] INFO: hyperseti.hyperseti: Peak find time: 1.91ms\n",
      "[2021-05-09 01:53:44.035302] INFO: hyperseti.hyperseti: Peak find memcopy: 0.33ms\n",
      "[2021-05-09 01:53:44.039456] INFO: hyperseti.hyperseti: --- Boxcar size: 16 ---\n",
      "[2021-05-09 01:53:44.041041] INFO: hyperseti.hyperseti: Filter time: 0.25ms\n",
      "[2021-05-09 01:53:44.041763] INFO: hyperseti.hyperseti: Dedopp setup time: 1.59ms\n",
      "[2021-05-09 01:53:44.042536] INFO: hyperseti.hyperseti: Dedopp kernel time: 0.11ms\n",
      "[2021-05-09 01:53:44.045792] INFO: hyperseti.hyperseti: Peak find time: 2.52ms\n",
      "[2021-05-09 01:53:44.046560] INFO: hyperseti.hyperseti: Peak find memcopy: 0.13ms\n",
      "[2021-05-09 01:53:44.050699] INFO: hyperseti.hyperseti: --- Boxcar size: 32 ---\n",
      "[2021-05-09 01:53:44.052209] INFO: hyperseti.hyperseti: Filter time: 0.25ms\n",
      "[2021-05-09 01:53:44.052925] INFO: hyperseti.hyperseti: Dedopp setup time: 1.54ms\n",
      "[2021-05-09 01:53:44.053667] INFO: hyperseti.hyperseti: Dedopp kernel time: 0.10ms\n",
      "[2021-05-09 01:53:44.058438] INFO: hyperseti.hyperseti: Peak find time: 4.02ms\n",
      "[2021-05-09 01:53:44.059452] INFO: hyperseti.hyperseti: Peak find memcopy: 0.41ms\n",
      "[2021-05-09 01:53:44.075215] INFO: hyperseti.hyperseti: Hit merging time: 11.85ms\n",
      "[2021-05-09 01:53:44.076010] INFO: hyperseti.hyperseti: Pipeline runtime: 0.09s\n",
      "[2021-05-09 01:53:44.076758] INFO: hyperseti.hyperseti: 2716 hits found\n",
      "## TOTAL TIME: 0.42s ##\n",
      "\n",
      "\n"
     ]
    },
    {
     "data": {
      "text/html": [
       "<div>\n",
       "<style scoped>\n",
       "    .dataframe tbody tr th:only-of-type {\n",
       "        vertical-align: middle;\n",
       "    }\n",
       "\n",
       "    .dataframe tbody tr th {\n",
       "        vertical-align: top;\n",
       "    }\n",
       "\n",
       "    .dataframe thead th {\n",
       "        text-align: right;\n",
       "    }\n",
       "</style>\n",
       "<table border=\"1\" class=\"dataframe\">\n",
       "  <thead>\n",
       "    <tr style=\"text-align: right;\">\n",
       "      <th></th>\n",
       "      <th>driftrate</th>\n",
       "      <th>f_start</th>\n",
       "      <th>snr</th>\n",
       "      <th>driftrate_idx</th>\n",
       "      <th>channel_idx</th>\n",
       "      <th>boxcar_size</th>\n",
       "    </tr>\n",
       "  </thead>\n",
       "  <tbody>\n",
       "    <tr>\n",
       "      <th>4978</th>\n",
       "      <td>0.650521</td>\n",
       "      <td>1926.269528</td>\n",
       "      <td>1.596253e+10</td>\n",
       "      <td>172</td>\n",
       "      <td>1</td>\n",
       "      <td>32</td>\n",
       "    </tr>\n",
       "    <tr>\n",
       "      <th>4016</th>\n",
       "      <td>0.985348</td>\n",
       "      <td>1926.269528</td>\n",
       "      <td>5.803320e+09</td>\n",
       "      <td>207</td>\n",
       "      <td>1</td>\n",
       "      <td>4</td>\n",
       "    </tr>\n",
       "    <tr>\n",
       "      <th>4550</th>\n",
       "      <td>-0.019133</td>\n",
       "      <td>1926.269528</td>\n",
       "      <td>8.494245e+09</td>\n",
       "      <td>102</td>\n",
       "      <td>1</td>\n",
       "      <td>8</td>\n",
       "    </tr>\n",
       "    <tr>\n",
       "      <th>0</th>\n",
       "      <td>-0.650521</td>\n",
       "      <td>1926.269514</td>\n",
       "      <td>2.916987e+09</td>\n",
       "      <td>36</td>\n",
       "      <td>6</td>\n",
       "      <td>1</td>\n",
       "    </tr>\n",
       "    <tr>\n",
       "      <th>4</th>\n",
       "      <td>0.229596</td>\n",
       "      <td>1926.269512</td>\n",
       "      <td>3.009927e+09</td>\n",
       "      <td>128</td>\n",
       "      <td>7</td>\n",
       "      <td>1</td>\n",
       "    </tr>\n",
       "    <tr>\n",
       "      <th>...</th>\n",
       "      <td>...</td>\n",
       "      <td>...</td>\n",
       "      <td>...</td>\n",
       "      <td>...</td>\n",
       "      <td>...</td>\n",
       "      <td>...</td>\n",
       "    </tr>\n",
       "    <tr>\n",
       "      <th>2738</th>\n",
       "      <td>-0.889684</td>\n",
       "      <td>1926.246688</td>\n",
       "      <td>2.768608e+09</td>\n",
       "      <td>11</td>\n",
       "      <td>8176</td>\n",
       "      <td>1</td>\n",
       "    </tr>\n",
       "    <tr>\n",
       "      <th>2743</th>\n",
       "      <td>0.822718</td>\n",
       "      <td>1926.246685</td>\n",
       "      <td>3.021492e+09</td>\n",
       "      <td>190</td>\n",
       "      <td>8177</td>\n",
       "      <td>1</td>\n",
       "    </tr>\n",
       "    <tr>\n",
       "      <th>4549</th>\n",
       "      <td>0.937516</td>\n",
       "      <td>1926.246663</td>\n",
       "      <td>5.765001e+09</td>\n",
       "      <td>202</td>\n",
       "      <td>8185</td>\n",
       "      <td>4</td>\n",
       "    </tr>\n",
       "    <tr>\n",
       "      <th>4009</th>\n",
       "      <td>-0.746186</td>\n",
       "      <td>1926.246660</td>\n",
       "      <td>3.866056e+09</td>\n",
       "      <td>26</td>\n",
       "      <td>8186</td>\n",
       "      <td>2</td>\n",
       "    </tr>\n",
       "    <tr>\n",
       "      <th>2745</th>\n",
       "      <td>0.736620</td>\n",
       "      <td>1926.246654</td>\n",
       "      <td>3.019651e+09</td>\n",
       "      <td>181</td>\n",
       "      <td>8188</td>\n",
       "      <td>1</td>\n",
       "    </tr>\n",
       "  </tbody>\n",
       "</table>\n",
       "<p>2716 rows × 6 columns</p>\n",
       "</div>"
      ],
      "text/plain": [
       "      driftrate      f_start           snr  driftrate_idx  channel_idx  \\\n",
       "4978   0.650521  1926.269528  1.596253e+10            172            1   \n",
       "4016   0.985348  1926.269528  5.803320e+09            207            1   \n",
       "4550  -0.019133  1926.269528  8.494245e+09            102            1   \n",
       "0     -0.650521  1926.269514  2.916987e+09             36            6   \n",
       "4      0.229596  1926.269512  3.009927e+09            128            7   \n",
       "...         ...          ...           ...            ...          ...   \n",
       "2738  -0.889684  1926.246688  2.768608e+09             11         8176   \n",
       "2743   0.822718  1926.246685  3.021492e+09            190         8177   \n",
       "4549   0.937516  1926.246663  5.765001e+09            202         8185   \n",
       "4009  -0.746186  1926.246660  3.866056e+09             26         8186   \n",
       "2745   0.736620  1926.246654  3.019651e+09            181         8188   \n",
       "\n",
       "      boxcar_size  \n",
       "4978           32  \n",
       "4016            4  \n",
       "4550            8  \n",
       "0               1  \n",
       "4               1  \n",
       "...           ...  \n",
       "2738            1  \n",
       "2743            1  \n",
       "4549            4  \n",
       "4009            2  \n",
       "2745            1  \n",
       "\n",
       "[2716 rows x 6 columns]"
      ]
     },
     "execution_count": 9,
     "metadata": {},
     "output_type": "execute_result"
    }
   ],
   "source": [
    "hyperseti.find_et_serial(file_name, gulp_size=2**13, limit=1, merge_boxcar_trials=True)"
   ]
  },
  {
   "cell_type": "code",
   "execution_count": 5,
   "id": "513ba4eb",
   "metadata": {},
   "outputs": [
    {
     "name": "stdout",
     "output_type": "stream",
     "text": [
      "<DataArray: shape=(16, 1, 8192), dims=('time', 'feed_id', 'frequency')>\n",
      "[2021-05-09 01:53:05.400591] INFO: hyperseti.hyperseti: --- Boxcar size: 1 ---\n",
      "[2021-05-09 01:53:05.402491] INFO: hyperseti.hyperseti: Dedopp setup time: 1.01ms\n",
      "[2021-05-09 01:53:05.403295] INFO: hyperseti.hyperseti: Dedopp kernel time: 0.17ms\n",
      "[2021-05-09 01:53:05.405980] INFO: hyperseti.hyperseti: Peak find time: 1.76ms\n",
      "[2021-05-09 01:53:05.406870] INFO: hyperseti.hyperseti: Peak find memcopy: 0.23ms\n",
      "[2021-05-09 01:53:05.410491] INFO: hyperseti.hyperseti: --- Boxcar size: 2 ---\n",
      "[2021-05-09 01:53:05.411796] INFO: hyperseti.hyperseti: Filter time: 0.24ms\n",
      "[2021-05-09 01:53:05.412457] INFO: hyperseti.hyperseti: Dedopp setup time: 1.40ms\n",
      "[2021-05-09 01:53:05.413029] INFO: hyperseti.hyperseti: Dedopp kernel time: 0.09ms\n",
      "[2021-05-09 01:53:05.415114] INFO: hyperseti.hyperseti: Peak find time: 1.51ms\n",
      "[2021-05-09 01:53:05.415849] INFO: hyperseti.hyperseti: Peak find memcopy: 0.11ms\n",
      "[2021-05-09 01:53:05.418932] INFO: hyperseti.hyperseti: --- Boxcar size: 4 ---\n",
      "[2021-05-09 01:53:05.420182] INFO: hyperseti.hyperseti: Filter time: 0.19ms\n",
      "[2021-05-09 01:53:05.420894] INFO: hyperseti.hyperseti: Dedopp setup time: 1.31ms\n",
      "[2021-05-09 01:53:05.421535] INFO: hyperseti.hyperseti: Dedopp kernel time: 0.08ms\n",
      "[2021-05-09 01:53:05.424074] INFO: hyperseti.hyperseti: Peak find time: 1.85ms\n",
      "[2021-05-09 01:53:05.424740] INFO: hyperseti.hyperseti: Peak find memcopy: 0.12ms\n",
      "[2021-05-09 01:53:05.428664] INFO: hyperseti.hyperseti: --- Boxcar size: 8 ---\n",
      "[2021-05-09 01:53:05.429979] INFO: hyperseti.hyperseti: Filter time: 0.19ms\n",
      "[2021-05-09 01:53:05.430717] INFO: hyperseti.hyperseti: Dedopp setup time: 1.42ms\n",
      "[2021-05-09 01:53:05.431355] INFO: hyperseti.hyperseti: Dedopp kernel time: 0.09ms\n",
      "[2021-05-09 01:53:05.433895] INFO: hyperseti.hyperseti: Peak find time: 1.91ms\n",
      "[2021-05-09 01:53:05.434571] INFO: hyperseti.hyperseti: Peak find memcopy: 0.12ms\n",
      "[2021-05-09 01:53:05.438005] INFO: hyperseti.hyperseti: --- Boxcar size: 16 ---\n",
      "[2021-05-09 01:53:05.439292] INFO: hyperseti.hyperseti: Filter time: 0.19ms\n",
      "[2021-05-09 01:53:05.439928] INFO: hyperseti.hyperseti: Dedopp setup time: 1.30ms\n",
      "[2021-05-09 01:53:05.440959] INFO: hyperseti.hyperseti: Dedopp kernel time: 0.40ms\n",
      "[2021-05-09 01:53:05.443824] INFO: hyperseti.hyperseti: Peak find time: 2.23ms\n",
      "[2021-05-09 01:53:05.444462] INFO: hyperseti.hyperseti: Peak find memcopy: 0.12ms\n",
      "[2021-05-09 01:53:05.447657] INFO: hyperseti.hyperseti: --- Boxcar size: 32 ---\n",
      "[2021-05-09 01:53:05.449104] INFO: hyperseti.hyperseti: Filter time: 0.19ms\n",
      "[2021-05-09 01:53:05.449743] INFO: hyperseti.hyperseti: Dedopp setup time: 1.30ms\n",
      "[2021-05-09 01:53:05.450378] INFO: hyperseti.hyperseti: Dedopp kernel time: 0.12ms\n",
      "[2021-05-09 01:53:05.455029] INFO: hyperseti.hyperseti: Peak find time: 4.02ms\n",
      "[2021-05-09 01:53:05.455829] INFO: hyperseti.hyperseti: Peak find memcopy: 0.13ms\n",
      "[2021-05-09 01:53:05.459033] INFO: hyperseti.hyperseti: Pipeline runtime: 0.06s\n",
      "[2021-05-09 01:53:05.459645] INFO: hyperseti.hyperseti: 5050 hits found\n",
      "## TOTAL TIME: 0.29s ##\n",
      "\n",
      "\n"
     ]
    }
   ],
   "source": [
    "hits = hyperseti.find_et_serial(file_name, gulp_size=2**13, limit=1, merge_boxcar_trials=False)"
   ]
  },
  {
   "cell_type": "code",
   "execution_count": null,
   "id": "5a76c90f",
   "metadata": {},
   "outputs": [],
   "source": [
    "hits.sort_values('snr', ascending=False)"
   ]
  },
  {
   "cell_type": "code",
   "execution_count": null,
   "id": "1d279f55",
   "metadata": {},
   "outputs": [],
   "source": [
    "t0 = time.time()\n",
    "save = hyperseti.merge_hits_gpu(hits)\n",
    "t1 = time.time()\n",
    "merged_hits = hits[save[0].get()]\n",
    "print(f\"Merge time: {(t1-t0)*1e3:2.2f}ms\")"
   ]
  },
  {
   "cell_type": "code",
   "execution_count": null,
   "id": "d741447b",
   "metadata": {},
   "outputs": [],
   "source": [
    "merged_hits"
   ]
  },
  {
   "cell_type": "code",
   "execution_count": null,
   "id": "0037cfa5",
   "metadata": {},
   "outputs": [],
   "source": [
    "np.count_nonzero(save[0].get())"
   ]
  },
  {
   "cell_type": "code",
   "execution_count": null,
   "id": "5bdd47e1",
   "metadata": {},
   "outputs": [],
   "source": [
    "cp.array(hits[\"snr\"], dtype=cp.float32)"
   ]
  },
  {
   "cell_type": "code",
   "execution_count": null,
   "id": "80f9fd25",
   "metadata": {},
   "outputs": [],
   "source": [
    "for e in save[0]:\n",
    "    print(e)"
   ]
  },
  {
   "cell_type": "code",
   "execution_count": null,
   "id": "e7b90959",
   "metadata": {},
   "outputs": [],
   "source": [
    "hitlist = hits.sort_values(\"channel_idx\", ascending=True)\n",
    "split_arr = hitlist[\"channel_idx\"]\n",
    "splitter = np.expand_dims(np.arange(32) * (2**8), axis=0)\n",
    "x = np.expand_dims(np.array(split_arr), axis=1)\n",
    "inds = ((x > splitter-32) * (x < (splitter + (2**8)+32)))\n",
    "selector = (((np.repeat(np.expand_dims(np.arange(len(hitlist)), axis=1), 32, axis=1))) * inds)\n",
    "np.argmax(selector, axis=0)"
   ]
  },
  {
   "cell_type": "code",
   "execution_count": null,
   "id": "fc72a015",
   "metadata": {},
   "outputs": [],
   "source": [
    "selector[inds != True] += len(hitlist)"
   ]
  },
  {
   "cell_type": "code",
   "execution_count": null,
   "id": "84c433c4",
   "metadata": {},
   "outputs": [],
   "source": [
    "cp.full((len(hitlist),), True, dtype=cp.bool)"
   ]
  },
  {
   "cell_type": "code",
   "execution_count": null,
   "id": "26bcb37b",
   "metadata": {},
   "outputs": [],
   "source": [
    "hitlist"
   ]
  },
  {
   "cell_type": "code",
   "execution_count": null,
   "id": "00010d3d",
   "metadata": {},
   "outputs": [],
   "source": [
    "np.argmin(selector, axis=0)"
   ]
  },
  {
   "cell_type": "code",
   "execution_count": null,
   "id": "eb2c6771",
   "metadata": {},
   "outputs": [],
   "source": [
    "selector"
   ]
  },
  {
   "cell_type": "code",
   "execution_count": null,
   "id": "8da4334e",
   "metadata": {},
   "outputs": [],
   "source": [
    "y = hits[\"driftrate_idx\"]\n",
    "x = hits[\"channel_idx\"]\n",
    "plt.scatter(x, y)"
   ]
  },
  {
   "cell_type": "code",
   "execution_count": null,
   "id": "c66ac146",
   "metadata": {},
   "outputs": [],
   "source": [
    "split_len = 2**9\n",
    "splitter = cp.expand_dims(cp.arange(16) * split_len, axis=0)\n",
    "print(splitter.shape)\n",
    "splitter"
   ]
  },
  {
   "cell_type": "code",
   "execution_count": null,
   "id": "cc576383",
   "metadata": {},
   "outputs": [],
   "source": [
    "hits"
   ]
  },
  {
   "cell_type": "code",
   "execution_count": null,
   "id": "03e59181",
   "metadata": {},
   "outputs": [],
   "source": [
    "x_gpu = cp.expand_dims(cp.array(x), axis=1)\n",
    "inds = ((x_gpu > splitter) * (x_gpu < (splitter + 400)))\n",
    "len(hits[inds[:, 0].get()])"
   ]
  },
  {
   "cell_type": "code",
   "execution_count": null,
   "id": "15a32df6",
   "metadata": {},
   "outputs": [],
   "source": [
    "# with Pool(16) as p:"
   ]
  },
  {
   "cell_type": "code",
   "execution_count": null,
   "id": "785fb1a0",
   "metadata": {},
   "outputs": [],
   "source": [
    "sub_lists = [hits[sub_inds] for sub_inds in inds.get().T]"
   ]
  },
  {
   "cell_type": "code",
   "execution_count": null,
   "id": "e8478643",
   "metadata": {},
   "outputs": [],
   "source": [
    "sub_lists[2]"
   ]
  },
  {
   "cell_type": "code",
   "execution_count": null,
   "id": "4992bbd4",
   "metadata": {},
   "outputs": [],
   "source": [
    "pd.concat(sub_lists)"
   ]
  },
  {
   "cell_type": "code",
   "execution_count": null,
   "id": "d9c2002b",
   "metadata": {},
   "outputs": [],
   "source": [
    "cluster_sizes = []\n",
    "for i in range(len(hits)):\n",
    "    p0 = hits.iloc[i]\n",
    "    q = f\"\"\"(abs(driftrate_idx - {p0['driftrate_idx']}) <= boxcar_size + 1  |\n",
    "                    abs(driftrate_idx - {p0['driftrate_idx']}) <= {p0['boxcar_size']} + 1)\n",
    "                    & \n",
    "                    (abs(channel_idx - {p0['channel_idx']}) <= {p0['boxcar_size']} + 1| \n",
    "                    abs(channel_idx - {p0['channel_idx']}) <= boxcar_size + 1)\"\"\"\n",
    "    q = q.replace('\\n', '') # Query must be one line\n",
    "    pq = hits.query(q)\n",
    "    cluster_sizes.append(len(pq))"
   ]
  },
  {
   "cell_type": "code",
   "execution_count": null,
   "id": "c72b04f4",
   "metadata": {},
   "outputs": [],
   "source": [
    "_ = plt.boxplot(cluster_sizes)"
   ]
  },
  {
   "cell_type": "code",
   "execution_count": null,
   "id": "e5bddf87",
   "metadata": {},
   "outputs": [],
   "source": [
    "y = hits[\"driftrate_idx\"]\n",
    "x = hits[\"channel_idx\"]\n",
    "plt.scatter(x, y)\n",
    "\n",
    "y = pq[\"driftrate_idx\"]\n",
    "x = pq[\"channel_idx\"]\n",
    "plt.scatter(x, y)"
   ]
  },
  {
   "cell_type": "code",
   "execution_count": null,
   "id": "b1f0ffe6",
   "metadata": {},
   "outputs": [],
   "source": [
    "f = h5.File(file_name, \"r+\")\n",
    "f[\"data\"].shape"
   ]
  },
  {
   "cell_type": "code",
   "execution_count": null,
   "id": "2fa709df",
   "metadata": {},
   "outputs": [],
   "source": [
    "base = np.random.randint(0, 322961408 - 2**9)\n",
    "d_slice = f[\"data\"][:, 0, base:base + 2**9]\n",
    "plt.imshow(d_slice, aspect=\"auto\")"
   ]
  },
  {
   "cell_type": "code",
   "execution_count": null,
   "id": "d2b1a4e3",
   "metadata": {},
   "outputs": [],
   "source": [
    "print(base)"
   ]
  },
  {
   "cell_type": "code",
   "execution_count": null,
   "id": "a9e75bdb",
   "metadata": {},
   "outputs": [],
   "source": [
    "from hyperseti.hyperseti import *\n",
    "from skimage.exposure import equalize_adapthist\n",
    "\n",
    "max_dd = 1\n",
    "\n",
    "#peaks = create_empty_hits_table()    \n",
    "ds = from_h5(file_name)\n",
    "data_gen = ds.iterate_through_data({'frequency': 2**13})\n",
    "\n",
    "for i in range(10000):\n",
    "    d_arr = next(data_gen)"
   ]
  },
  {
   "cell_type": "code",
   "execution_count": null,
   "id": "d0272c67",
   "metadata": {},
   "outputs": [],
   "source": [
    "search_count = 0\n",
    "out = []\n",
    "for i in range(np.random.randint(200)):\n",
    "    d_arr = next(data_gen)\n",
    "print(d_arr)\n",
    "d = d_arr.data\n",
    "f = d_arr.frequency\n",
    "t = d_arr.time\n",
    "md = {'fch1': f.val_start * f.units, 'df': f.val_step * f.units, 'dt': t.val_step * t.units}\n",
    "# dedopp, metadata, hits = run_pipeline(d, md, max_dd)\n",
    "# out.append(hits)\n",
    "# logger.info(f\"{len(hits)} hits found\")\n",
    "\n",
    "# dframe = pd.concat(out)\n",
    "# dframe.to_csv(filename_out)\n",
    "# t1 = time.time()\n",
    "# print(f\"## TOTAL TIME: {(t1-t0):2.2f}s ##\\n\\n\")\n",
    "plt.imshow(equalize_adapthist(d[:, 0, :] / d.max()), aspect=\"auto\")\n",
    "print(f, t)"
   ]
  },
  {
   "cell_type": "code",
   "execution_count": null,
   "id": "c7fc520b",
   "metadata": {},
   "outputs": [],
   "source": [
    "data = d\n",
    "metadata = md\n",
    "min_dd=None\n",
    "threshold=50\n",
    "min_fdistance=None\n",
    "min_ddistance=None\n",
    "n_boxcar=3\n",
    "merge_boxcar_trials=False\n",
    "apply_normalization=False\n",
    "\n",
    "# t0 = time.time()\n",
    "logger.debug(data.shape)\n",
    "N_timesteps = data.shape[0]\n",
    "_threshold = threshold * np.sqrt(N_timesteps)\n",
    "\n",
    "# Apply preprocessing normalization\n",
    "if apply_normalization:\n",
    "    data = normalize(data, return_space='gpu')\n",
    "\n",
    "\n",
    "peaks = create_empty_hits_table()\n",
    "\n",
    "boxcar_trials = map(int, 2**np.arange(0, n_boxcar))\n",
    "for boxcar_size in boxcar_trials:\n",
    "    logger.info(f\"--- Boxcar size: {boxcar_size} ---\")\n",
    "    dedopp, metadata = dedoppler(data, metadata, boxcar_size=boxcar_size,  boxcar_mode='sum',\n",
    "                                 max_dd=max_dd, min_dd=min_dd, return_space='gpu')\n",
    "\n",
    "    # Adjust SNR threshold to take into account boxcar size and dedoppler sum\n",
    "    # Noise increases by sqrt(N_timesteps * boxcar_size)\n",
    "    _threshold = threshold * np.sqrt(N_timesteps * boxcar_size)\n",
    "    _peaks = hitsearch(dedopp, metadata, threshold=_threshold, min_fdistance=min_fdistance, min_ddistance=min_ddistance)\n",
    "\n",
    "    if _peaks is not None:\n",
    "        _peaks['snr'] /= np.sqrt(N_timesteps * boxcar_size)\n",
    "        peaks = pd.concat((peaks, _peaks), ignore_index=True)\n",
    "\n",
    "if merge_boxcar_trials:\n",
    "    peaks = merge_hits(peaks)\n",
    "\n",
    "# logger.info(f\"Pipeline runtime: {(t1-t0):2.2f}s\")"
   ]
  },
  {
   "cell_type": "code",
   "execution_count": null,
   "id": "1fc18653",
   "metadata": {},
   "outputs": [],
   "source": [
    "peaks.head(3)"
   ]
  },
  {
   "cell_type": "code",
   "execution_count": null,
   "id": "faf15588",
   "metadata": {},
   "outputs": [],
   "source": [
    "from skimage.filters import gaussian\n",
    "dedopp_cpu = dedopp.get()\n",
    "show_dedopp = gaussian(dedopp_cpu, sigma=0)[:, 4700:5000]\n",
    "# show_dedopp = dedopp_cpu[:, :200]\n",
    "\n",
    "plt.imshow(equalize_adapthist(show_dedopp / np.max(show_dedopp)), aspect=\"auto\")"
   ]
  },
  {
   "cell_type": "code",
   "execution_count": null,
   "id": "6a6445f2",
   "metadata": {},
   "outputs": [],
   "source": [
    "dedopp_cpu.shape"
   ]
  },
  {
   "cell_type": "code",
   "execution_count": null,
   "id": "db2b227a",
   "metadata": {},
   "outputs": [],
   "source": [
    "dedopp"
   ]
  },
  {
   "cell_type": "code",
   "execution_count": null,
   "id": "52c17213",
   "metadata": {},
   "outputs": [],
   "source": [
    "a = cp.zeros((3,3))\n",
    "a[1, 1] = 1\n",
    "cp.roll(a, -1, axis=1)"
   ]
  },
  {
   "cell_type": "code",
   "execution_count": null,
   "id": "6d2cff2b",
   "metadata": {},
   "outputs": [],
   "source": []
  }
 ],
 "metadata": {
  "kernelspec": {
   "display_name": "Python 3",
   "language": "python",
   "name": "python3"
  },
  "language_info": {
   "codemirror_mode": {
    "name": "ipython",
    "version": 3
   },
   "file_extension": ".py",
   "mimetype": "text/x-python",
   "name": "python",
   "nbconvert_exporter": "python",
   "pygments_lexer": "ipython3",
   "version": "3.8.2"
  }
 },
 "nbformat": 4,
 "nbformat_minor": 5
}
