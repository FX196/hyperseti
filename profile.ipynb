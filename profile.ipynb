{
 "cells": [
  {
   "cell_type": "code",
   "execution_count": 1,
   "id": "7c8b2789",
   "metadata": {},
   "outputs": [
    {
     "name": "stderr",
     "output_type": "stream",
     "text": [
      "bshuf filter already loaded, skip it.\n",
      "lz4 filter already loaded, skip it.\n",
      "zfp filter already loaded, skip it.\n"
     ]
    }
   ],
   "source": [
    "from hyperseti import hyperseti"
   ]
  },
  {
   "cell_type": "code",
   "execution_count": 58,
   "id": "a9b64707",
   "metadata": {},
   "outputs": [],
   "source": [
    "file_name = \"GBT_58210_31246_HIP93185_fine.h5\""
   ]
  },
  {
   "cell_type": "code",
   "execution_count": 3,
   "id": "513ba4eb",
   "metadata": {},
   "outputs": [
    {
     "name": "stdout",
     "output_type": "stream",
     "text": [
      "<DataArray: shape=(16, 1, 8192), dims=('time', 'feed_id', 'frequency')>\n",
      "[2021-04-24 00:33:29.615663] INFO: hyperseti.hyperseti: --- Boxcar size: 1 ---\n",
      "[2021-04-24 00:33:29.623312] INFO: hyperseti.hyperseti: Dedopp setup time: 6.74ms\n",
      "[2021-04-24 00:33:29.624130] INFO: hyperseti.hyperseti: Dedopp kernel time: 0.13ms\n",
      "[2021-04-24 00:33:33.704624] INFO: hyperseti.hyperseti: Peak find time: 4079.14ms\n",
      "[2021-04-24 00:33:33.706927] INFO: hyperseti.hyperseti: Peak find memcopy: 0.21ms\n",
      "[2021-04-24 00:33:33.712478] INFO: hyperseti.hyperseti: --- Boxcar size: 2 ---\n",
      "[2021-04-24 00:33:33.714384] INFO: hyperseti.hyperseti: Filter time: 0.39ms\n",
      "[2021-04-24 00:33:33.715162] INFO: hyperseti.hyperseti: Dedopp setup time: 1.93ms\n",
      "[2021-04-24 00:33:33.715900] INFO: hyperseti.hyperseti: Dedopp kernel time: 0.11ms\n",
      "[2021-04-24 00:33:35.957854] INFO: hyperseti.hyperseti: Peak find time: 2241.18ms\n",
      "[2021-04-24 00:33:35.959278] INFO: hyperseti.hyperseti: Peak find memcopy: 0.53ms\n",
      "[2021-04-24 00:33:35.962160] INFO: hyperseti.hyperseti: --- Boxcar size: 4 ---\n",
      "[2021-04-24 00:33:35.963971] INFO: hyperseti.hyperseti: Filter time: 0.20ms\n",
      "[2021-04-24 00:33:35.964742] INFO: hyperseti.hyperseti: Dedopp setup time: 1.27ms\n",
      "[2021-04-24 00:33:35.965523] INFO: hyperseti.hyperseti: Dedopp kernel time: 0.07ms\n",
      "[2021-04-24 00:33:37.092234] INFO: hyperseti.hyperseti: Peak find time: 1125.83ms\n",
      "[2021-04-24 00:33:37.093547] INFO: hyperseti.hyperseti: Peak find memcopy: 0.53ms\n",
      "[2021-04-24 00:33:37.097779] INFO: hyperseti.hyperseti: --- Boxcar size: 8 ---\n",
      "[2021-04-24 00:33:37.099557] INFO: hyperseti.hyperseti: Filter time: 0.20ms\n",
      "[2021-04-24 00:33:37.100270] INFO: hyperseti.hyperseti: Dedopp setup time: 1.20ms\n",
      "[2021-04-24 00:33:37.101094] INFO: hyperseti.hyperseti: Dedopp kernel time: 0.13ms\n",
      "[2021-04-24 00:33:37.738382] INFO: hyperseti.hyperseti: Peak find time: 636.41ms\n",
      "[2021-04-24 00:33:37.739806] INFO: hyperseti.hyperseti: Peak find memcopy: 0.46ms\n",
      "[2021-04-24 00:33:37.743865] INFO: hyperseti.hyperseti: --- Boxcar size: 16 ---\n",
      "[2021-04-24 00:33:37.745610] INFO: hyperseti.hyperseti: Filter time: 0.59ms\n",
      "[2021-04-24 00:33:37.746495] INFO: hyperseti.hyperseti: Dedopp setup time: 1.92ms\n",
      "[2021-04-24 00:33:37.747320] INFO: hyperseti.hyperseti: Dedopp kernel time: 0.09ms\n",
      "[2021-04-24 00:33:38.024969] INFO: hyperseti.hyperseti: Peak find time: 276.81ms\n",
      "[2021-04-24 00:33:38.026323] INFO: hyperseti.hyperseti: Peak find memcopy: 0.51ms\n",
      "[2021-04-24 00:33:38.029809] INFO: hyperseti.hyperseti: --- Boxcar size: 32 ---\n",
      "[2021-04-24 00:33:38.031427] INFO: hyperseti.hyperseti: Filter time: 0.25ms\n",
      "[2021-04-24 00:33:38.032186] INFO: hyperseti.hyperseti: Dedopp setup time: 1.65ms\n",
      "[2021-04-24 00:33:38.032995] INFO: hyperseti.hyperseti: Dedopp kernel time: 0.07ms\n",
      "[2021-04-24 00:33:38.171247] INFO: hyperseti.hyperseti: Peak find time: 137.43ms\n",
      "[2021-04-24 00:33:38.172448] INFO: hyperseti.hyperseti: Peak find memcopy: 0.47ms\n",
      "[2021-04-24 00:33:58.017626] INFO: hyperseti.hyperseti: Hit merging time: 19841.99ms\n",
      "[2021-04-24 00:33:58.144886] INFO: hyperseti.hyperseti: Pipeline runtime: 28.53s\n",
      "[2021-04-24 00:33:58.145793] INFO: hyperseti.hyperseti: 3138 hits found\n",
      "<DataArray: shape=(16, 1, 8192), dims=('time', 'feed_id', 'frequency')>\n",
      "[2021-04-24 00:33:58.196674] INFO: hyperseti.hyperseti: --- Boxcar size: 1 ---\n",
      "[2021-04-24 00:33:58.204495] INFO: hyperseti.hyperseti: Dedopp setup time: 6.68ms\n",
      "[2021-04-24 00:33:58.205640] INFO: hyperseti.hyperseti: Dedopp kernel time: 0.19ms\n",
      "[2021-04-24 00:34:02.406781] INFO: hyperseti.hyperseti: Peak find time: 4200.07ms\n",
      "[2021-04-24 00:34:02.408186] INFO: hyperseti.hyperseti: Peak find memcopy: 0.27ms\n",
      "[2021-04-24 00:34:02.411739] INFO: hyperseti.hyperseti: --- Boxcar size: 2 ---\n",
      "[2021-04-24 00:34:02.413706] INFO: hyperseti.hyperseti: Filter time: 0.68ms\n",
      "[2021-04-24 00:34:02.414593] INFO: hyperseti.hyperseti: Dedopp setup time: 2.19ms\n",
      "[2021-04-24 00:34:02.415446] INFO: hyperseti.hyperseti: Dedopp kernel time: 0.16ms\n",
      "[2021-04-24 00:34:04.677092] INFO: hyperseti.hyperseti: Peak find time: 2260.88ms\n",
      "[2021-04-24 00:34:04.678144] INFO: hyperseti.hyperseti: Peak find memcopy: 0.21ms\n",
      "[2021-04-24 00:34:04.681236] INFO: hyperseti.hyperseti: --- Boxcar size: 4 ---\n",
      "[2021-04-24 00:34:04.683370] INFO: hyperseti.hyperseti: Filter time: 0.73ms\n",
      "[2021-04-24 00:34:04.684102] INFO: hyperseti.hyperseti: Dedopp setup time: 2.17ms\n",
      "[2021-04-24 00:34:04.684922] INFO: hyperseti.hyperseti: Dedopp kernel time: 0.14ms\n",
      "[2021-04-24 00:34:05.810863] INFO: hyperseti.hyperseti: Peak find time: 1125.15ms\n",
      "[2021-04-24 00:34:05.811836] INFO: hyperseti.hyperseti: Peak find memcopy: 0.21ms\n",
      "[2021-04-24 00:34:05.816118] INFO: hyperseti.hyperseti: --- Boxcar size: 8 ---\n",
      "[2021-04-24 00:34:05.817968] INFO: hyperseti.hyperseti: Filter time: 0.65ms\n",
      "[2021-04-24 00:34:05.818691] INFO: hyperseti.hyperseti: Dedopp setup time: 1.90ms\n",
      "[2021-04-24 00:34:05.819507] INFO: hyperseti.hyperseti: Dedopp kernel time: 0.19ms\n",
      "[2021-04-24 00:34:06.353186] INFO: hyperseti.hyperseti: Peak find time: 532.88ms\n",
      "[2021-04-24 00:34:06.354084] INFO: hyperseti.hyperseti: Peak find memcopy: 0.20ms\n",
      "[2021-04-24 00:34:06.357552] INFO: hyperseti.hyperseti: --- Boxcar size: 16 ---\n",
      "[2021-04-24 00:34:06.359391] INFO: hyperseti.hyperseti: Filter time: 0.67ms\n",
      "[2021-04-24 00:34:06.360087] INFO: hyperseti.hyperseti: Dedopp setup time: 1.82ms\n",
      "[2021-04-24 00:34:06.360909] INFO: hyperseti.hyperseti: Dedopp kernel time: 0.14ms\n",
      "[2021-04-24 00:34:06.645963] INFO: hyperseti.hyperseti: Peak find time: 284.30ms\n",
      "[2021-04-24 00:34:06.646929] INFO: hyperseti.hyperseti: Peak find memcopy: 0.20ms\n",
      "[2021-04-24 00:34:06.650027] INFO: hyperseti.hyperseti: --- Boxcar size: 32 ---\n",
      "[2021-04-24 00:34:06.651879] INFO: hyperseti.hyperseti: Filter time: 0.67ms\n",
      "[2021-04-24 00:34:06.652546] INFO: hyperseti.hyperseti: Dedopp setup time: 1.77ms\n",
      "[2021-04-24 00:34:06.653388] INFO: hyperseti.hyperseti: Dedopp kernel time: 0.16ms\n",
      "[2021-04-24 00:34:06.797104] INFO: hyperseti.hyperseti: Peak find time: 142.94ms\n",
      "[2021-04-24 00:34:06.798065] INFO: hyperseti.hyperseti: Peak find memcopy: 0.19ms\n",
      "[2021-04-24 00:34:25.981545] INFO: hyperseti.hyperseti: Hit merging time: 19180.16ms\n",
      "[2021-04-24 00:34:26.110253] INFO: hyperseti.hyperseti: Pipeline runtime: 27.92s\n",
      "[2021-04-24 00:34:26.111072] INFO: hyperseti.hyperseti: 3064 hits found\n",
      "<DataArray: shape=(16, 1, 8192), dims=('time', 'feed_id', 'frequency')>\n",
      "[2021-04-24 00:34:26.164732] INFO: hyperseti.hyperseti: --- Boxcar size: 1 ---\n",
      "[2021-04-24 00:34:26.172315] INFO: hyperseti.hyperseti: Dedopp setup time: 6.66ms\n",
      "[2021-04-24 00:34:26.173234] INFO: hyperseti.hyperseti: Dedopp kernel time: 0.20ms\n",
      "[2021-04-24 00:34:30.231783] INFO: hyperseti.hyperseti: Peak find time: 4057.65ms\n",
      "[2021-04-24 00:34:30.233001] INFO: hyperseti.hyperseti: Peak find memcopy: 0.26ms\n",
      "[2021-04-24 00:34:30.236680] INFO: hyperseti.hyperseti: --- Boxcar size: 2 ---\n",
      "[2021-04-24 00:34:30.238589] INFO: hyperseti.hyperseti: Filter time: 0.67ms\n",
      "[2021-04-24 00:34:30.239298] INFO: hyperseti.hyperseti: Dedopp setup time: 2.00ms\n",
      "[2021-04-24 00:34:30.240190] INFO: hyperseti.hyperseti: Dedopp kernel time: 0.18ms\n",
      "[2021-04-24 00:34:32.423877] INFO: hyperseti.hyperseti: Peak find time: 2182.92ms\n",
      "[2021-04-24 00:34:32.424897] INFO: hyperseti.hyperseti: Peak find memcopy: 0.20ms\n",
      "[2021-04-24 00:34:32.427860] INFO: hyperseti.hyperseti: --- Boxcar size: 4 ---\n",
      "[2021-04-24 00:34:32.429804] INFO: hyperseti.hyperseti: Filter time: 0.63ms\n",
      "[2021-04-24 00:34:32.430531] INFO: hyperseti.hyperseti: Dedopp setup time: 1.99ms\n",
      "[2021-04-24 00:34:32.431338] INFO: hyperseti.hyperseti: Dedopp kernel time: 0.19ms\n",
      "[2021-04-24 00:34:33.541978] INFO: hyperseti.hyperseti: Peak find time: 1109.86ms\n",
      "[2021-04-24 00:34:33.543006] INFO: hyperseti.hyperseti: Peak find memcopy: 0.21ms\n",
      "[2021-04-24 00:34:33.547296] INFO: hyperseti.hyperseti: --- Boxcar size: 8 ---\n",
      "[2021-04-24 00:34:33.549294] INFO: hyperseti.hyperseti: Filter time: 0.64ms\n",
      "[2021-04-24 00:34:33.549989] INFO: hyperseti.hyperseti: Dedopp setup time: 1.97ms\n",
      "[2021-04-24 00:34:33.550857] INFO: hyperseti.hyperseti: Dedopp kernel time: 0.14ms\n",
      "[2021-04-24 00:34:34.105398] INFO: hyperseti.hyperseti: Peak find time: 553.77ms\n",
      "[2021-04-24 00:34:34.106344] INFO: hyperseti.hyperseti: Peak find memcopy: 0.23ms\n"
     ]
    },
    {
     "name": "stdout",
     "output_type": "stream",
     "text": [
      "[2021-04-24 00:34:34.109959] INFO: hyperseti.hyperseti: --- Boxcar size: 16 ---\n",
      "[2021-04-24 00:34:34.111987] INFO: hyperseti.hyperseti: Filter time: 0.70ms\n",
      "[2021-04-24 00:34:34.112808] INFO: hyperseti.hyperseti: Dedopp setup time: 2.05ms\n",
      "[2021-04-24 00:34:34.113878] INFO: hyperseti.hyperseti: Dedopp kernel time: 0.07ms\n",
      "[2021-04-24 00:34:34.384058] INFO: hyperseti.hyperseti: Peak find time: 269.23ms\n",
      "[2021-04-24 00:34:34.385322] INFO: hyperseti.hyperseti: Peak find memcopy: 0.46ms\n",
      "[2021-04-24 00:34:34.388749] INFO: hyperseti.hyperseti: --- Boxcar size: 32 ---\n",
      "[2021-04-24 00:34:34.390298] INFO: hyperseti.hyperseti: Filter time: 0.24ms\n",
      "[2021-04-24 00:34:34.391045] INFO: hyperseti.hyperseti: Dedopp setup time: 1.59ms\n",
      "[2021-04-24 00:34:34.391903] INFO: hyperseti.hyperseti: Dedopp kernel time: 0.11ms\n",
      "[2021-04-24 00:34:34.534896] INFO: hyperseti.hyperseti: Peak find time: 142.17ms\n",
      "[2021-04-24 00:34:34.535833] INFO: hyperseti.hyperseti: Peak find memcopy: 0.18ms\n",
      "[2021-04-24 00:34:53.798376] INFO: hyperseti.hyperseti: Hit merging time: 19259.11ms\n",
      "[2021-04-24 00:34:53.921710] INFO: hyperseti.hyperseti: Pipeline runtime: 27.76s\n",
      "[2021-04-24 00:34:53.922533] INFO: hyperseti.hyperseti: 3040 hits found\n",
      "## TOTAL TIME: 84.68s ##\n",
      "\n",
      "\n"
     ]
    },
    {
     "data": {
      "text/html": [
       "<div>\n",
       "<style scoped>\n",
       "    .dataframe tbody tr th:only-of-type {\n",
       "        vertical-align: middle;\n",
       "    }\n",
       "\n",
       "    .dataframe tbody tr th {\n",
       "        vertical-align: top;\n",
       "    }\n",
       "\n",
       "    .dataframe thead th {\n",
       "        text-align: right;\n",
       "    }\n",
       "</style>\n",
       "<table border=\"1\" class=\"dataframe\">\n",
       "  <thead>\n",
       "    <tr style=\"text-align: right;\">\n",
       "      <th></th>\n",
       "      <th>driftrate</th>\n",
       "      <th>f_start</th>\n",
       "      <th>snr</th>\n",
       "      <th>driftrate_idx</th>\n",
       "      <th>channel_idx</th>\n",
       "      <th>boxcar_size</th>\n",
       "    </tr>\n",
       "  </thead>\n",
       "  <tbody>\n",
       "    <tr>\n",
       "      <th>7320</th>\n",
       "      <td>-0.267862</td>\n",
       "      <td>2802.815376</td>\n",
       "      <td>1.804430e+10</td>\n",
       "      <td>76.0</td>\n",
       "      <td>5961.0</td>\n",
       "      <td>32.0</td>\n",
       "    </tr>\n",
       "    <tr>\n",
       "      <th>7321</th>\n",
       "      <td>-0.535723</td>\n",
       "      <td>2802.810951</td>\n",
       "      <td>1.802762e+10</td>\n",
       "      <td>48.0</td>\n",
       "      <td>7545.0</td>\n",
       "      <td>32.0</td>\n",
       "    </tr>\n",
       "    <tr>\n",
       "      <th>7322</th>\n",
       "      <td>-0.841851</td>\n",
       "      <td>2802.822574</td>\n",
       "      <td>1.800313e+10</td>\n",
       "      <td>16.0</td>\n",
       "      <td>3385.0</td>\n",
       "      <td>32.0</td>\n",
       "    </tr>\n",
       "    <tr>\n",
       "      <th>7323</th>\n",
       "      <td>-0.363527</td>\n",
       "      <td>2802.811747</td>\n",
       "      <td>1.799976e+10</td>\n",
       "      <td>66.0</td>\n",
       "      <td>7260.0</td>\n",
       "      <td>32.0</td>\n",
       "    </tr>\n",
       "    <tr>\n",
       "      <th>7324</th>\n",
       "      <td>-0.889684</td>\n",
       "      <td>2802.811392</td>\n",
       "      <td>1.799219e+10</td>\n",
       "      <td>11.0</td>\n",
       "      <td>7387.0</td>\n",
       "      <td>32.0</td>\n",
       "    </tr>\n",
       "    <tr>\n",
       "      <th>...</th>\n",
       "      <td>...</td>\n",
       "      <td>...</td>\n",
       "      <td>...</td>\n",
       "      <td>...</td>\n",
       "      <td>...</td>\n",
       "      <td>...</td>\n",
       "    </tr>\n",
       "    <tr>\n",
       "      <th>3650</th>\n",
       "      <td>0.832285</td>\n",
       "      <td>2802.783933</td>\n",
       "      <td>3.389319e+09</td>\n",
       "      <td>191.0</td>\n",
       "      <td>831.0</td>\n",
       "      <td>1.0</td>\n",
       "    </tr>\n",
       "    <tr>\n",
       "      <th>3655</th>\n",
       "      <td>0.966215</td>\n",
       "      <td>2802.784875</td>\n",
       "      <td>3.380710e+09</td>\n",
       "      <td>205.0</td>\n",
       "      <td>494.0</td>\n",
       "      <td>1.0</td>\n",
       "    </tr>\n",
       "    <tr>\n",
       "      <th>3658</th>\n",
       "      <td>0.966215</td>\n",
       "      <td>2802.784883</td>\n",
       "      <td>3.366683e+09</td>\n",
       "      <td>205.0</td>\n",
       "      <td>491.0</td>\n",
       "      <td>1.0</td>\n",
       "    </tr>\n",
       "    <tr>\n",
       "      <th>3660</th>\n",
       "      <td>-0.669654</td>\n",
       "      <td>2802.763395</td>\n",
       "      <td>3.275258e+09</td>\n",
       "      <td>34.0</td>\n",
       "      <td>8182.0</td>\n",
       "      <td>1.0</td>\n",
       "    </tr>\n",
       "    <tr>\n",
       "      <th>3661</th>\n",
       "      <td>-0.985348</td>\n",
       "      <td>2802.763411</td>\n",
       "      <td>3.270734e+09</td>\n",
       "      <td>1.0</td>\n",
       "      <td>8176.0</td>\n",
       "      <td>1.0</td>\n",
       "    </tr>\n",
       "  </tbody>\n",
       "</table>\n",
       "<p>9242 rows × 6 columns</p>\n",
       "</div>"
      ],
      "text/plain": [
       "      driftrate      f_start           snr  driftrate_idx  channel_idx  \\\n",
       "7320  -0.267862  2802.815376  1.804430e+10           76.0       5961.0   \n",
       "7321  -0.535723  2802.810951  1.802762e+10           48.0       7545.0   \n",
       "7322  -0.841851  2802.822574  1.800313e+10           16.0       3385.0   \n",
       "7323  -0.363527  2802.811747  1.799976e+10           66.0       7260.0   \n",
       "7324  -0.889684  2802.811392  1.799219e+10           11.0       7387.0   \n",
       "...         ...          ...           ...            ...          ...   \n",
       "3650   0.832285  2802.783933  3.389319e+09          191.0        831.0   \n",
       "3655   0.966215  2802.784875  3.380710e+09          205.0        494.0   \n",
       "3658   0.966215  2802.784883  3.366683e+09          205.0        491.0   \n",
       "3660  -0.669654  2802.763395  3.275258e+09           34.0       8182.0   \n",
       "3661  -0.985348  2802.763411  3.270734e+09            1.0       8176.0   \n",
       "\n",
       "      boxcar_size  \n",
       "7320         32.0  \n",
       "7321         32.0  \n",
       "7322         32.0  \n",
       "7323         32.0  \n",
       "7324         32.0  \n",
       "...           ...  \n",
       "3650          1.0  \n",
       "3655          1.0  \n",
       "3658          1.0  \n",
       "3660          1.0  \n",
       "3661          1.0  \n",
       "\n",
       "[9242 rows x 6 columns]"
      ]
     },
     "execution_count": 3,
     "metadata": {},
     "output_type": "execute_result"
    }
   ],
   "source": [
    "hyperseti.find_et_serial(file_name, gulp_size=2**13, limit=2)"
   ]
  },
  {
   "cell_type": "code",
   "execution_count": 40,
   "id": "e0d97ec2",
   "metadata": {},
   "outputs": [],
   "source": [
    "from matplotlib import pyplot as plt\n",
    "import numpy as np\n",
    "import h5py as h5"
   ]
  },
  {
   "cell_type": "code",
   "execution_count": 59,
   "id": "b1f0ffe6",
   "metadata": {},
   "outputs": [
    {
     "data": {
      "text/plain": [
       "(16, 1, 322961408)"
      ]
     },
     "execution_count": 59,
     "metadata": {},
     "output_type": "execute_result"
    }
   ],
   "source": [
    "f = h5.File(file_name, \"r+\")\n",
    "f[\"data\"].shape"
   ]
  },
  {
   "cell_type": "code",
   "execution_count": 82,
   "id": "2fa709df",
   "metadata": {},
   "outputs": [
    {
     "data": {
      "text/plain": [
       "<matplotlib.image.AxesImage at 0x7f33d2d9f640>"
      ]
     },
     "execution_count": 82,
     "metadata": {},
     "output_type": "execute_result"
    },
    {
     "data": {
      "image/png": "[encoded data removed]",
      "text/plain": [
       "<Figure size 432x288 with 1 Axes>"
      ]
     },
     "metadata": {
      "needs_background": "light"
     },
     "output_type": "display_data"
    }
   ],
   "source": [
    "base = np.random.randint(0, 322961408 - 2**9)\n",
    "d_slice = f[\"data\"][:, 0, base:base + 2**9]\n",
    "plt.imshow(d_slice, aspect=\"auto\")"
   ]
  },
  {
   "cell_type": "code",
   "execution_count": 83,
   "id": "d2b1a4e3",
   "metadata": {},
   "outputs": [
    {
     "name": "stdout",
     "output_type": "stream",
     "text": [
      "116048342\n"
     ]
    }
   ],
   "source": [
    "print(base)"
   ]
  },
  {
   "cell_type": "code",
   "execution_count": 327,
   "id": "a9e75bdb",
   "metadata": {},
   "outputs": [],
   "source": [
    "from hyperseti.hyperseti import *\n",
    "from skimage.exposure import equalize_adapthist\n",
    "\n",
    "max_dd = 1\n",
    "\n",
    "#peaks = create_empty_hits_table()    \n",
    "ds = from_h5(file_name)\n",
    "data_gen = ds.iterate_through_data({'frequency': 2**13})\n",
    "\n",
    "for i in range(10000):\n",
    "    d_arr = next(data_gen)"
   ]
  },
  {
   "cell_type": "code",
   "execution_count": 356,
   "id": "d0272c67",
   "metadata": {},
   "outputs": [
    {
     "name": "stdout",
     "output_type": "stream",
     "text": [
      "<DataArray: shape=(16, 1, 8192), dims=('time', 'feed_id', 'frequency')>\n",
      "<DimensionScale 'frequency': start 1680.0384521484375 MHz step -2.7939677238464355e-06 MHz nstep 8192 > <TimeScale 'time': start 58210.36164351852 mjd step 18.253611008 sec nstep 16 >\n"
     ]
    },
    {
     "data": {
      "image/png": "[encoded data removed]",
      "text/plain": [
       "<Figure size 432x288 with 1 Axes>"
      ]
     },
     "metadata": {
      "needs_background": "light"
     },
     "output_type": "display_data"
    }
   ],
   "source": [
    "search_count = 0\n",
    "out = []\n",
    "for i in range(np.random.randint(200)):\n",
    "    d_arr = next(data_gen)\n",
    "print(d_arr)\n",
    "d = d_arr.data\n",
    "f = d_arr.frequency\n",
    "t = d_arr.time\n",
    "md = {'fch1': f.val_start * f.units, 'df': f.val_step * f.units, 'dt': t.val_step * t.units}\n",
    "# dedopp, metadata, hits = run_pipeline(d, md, max_dd)\n",
    "# out.append(hits)\n",
    "# logger.info(f\"{len(hits)} hits found\")\n",
    "\n",
    "# dframe = pd.concat(out)\n",
    "# dframe.to_csv(filename_out)\n",
    "# t1 = time.time()\n",
    "# print(f\"## TOTAL TIME: {(t1-t0):2.2f}s ##\\n\\n\")\n",
    "plt.imshow(equalize_adapthist(d[:, 0, :] / d.max()), aspect=\"auto\")\n",
    "print(f, t)"
   ]
  },
  {
   "cell_type": "code",
   "execution_count": 374,
   "id": "c7fc520b",
   "metadata": {},
   "outputs": [
    {
     "name": "stdout",
     "output_type": "stream",
     "text": [
      "[2021-04-25 00:38:58.186349] INFO: hyperseti.hyperseti: --- Boxcar size: 1 ---\n",
      "[2021-04-25 00:38:58.189114] INFO: hyperseti.hyperseti: Dedopp setup time: 1.45ms\n",
      "[2021-04-25 00:38:58.190307] INFO: hyperseti.hyperseti: Dedopp kernel time: 0.21ms\n",
      "[2021-04-25 00:39:01.925300] INFO: hyperseti.hyperseti: Peak find time: 3733.94ms\n",
      "[2021-04-25 00:39:01.930770] INFO: hyperseti.hyperseti: Peak find memcopy: 4.64ms\n",
      "[2021-04-25 00:39:01.936250] INFO: hyperseti.hyperseti: --- Boxcar size: 2 ---\n",
      "[2021-04-25 00:39:01.938837] INFO: hyperseti.hyperseti: Filter time: 0.69ms\n",
      "[2021-04-25 00:39:01.939679] INFO: hyperseti.hyperseti: Dedopp setup time: 2.63ms\n",
      "[2021-04-25 00:39:01.940504] INFO: hyperseti.hyperseti: Dedopp kernel time: 0.16ms\n",
      "[2021-04-25 00:39:04.038624] INFO: hyperseti.hyperseti: Peak find time: 2097.35ms\n",
      "[2021-04-25 00:39:04.039650] INFO: hyperseti.hyperseti: Peak find memcopy: 0.32ms\n",
      "[2021-04-25 00:39:04.042626] INFO: hyperseti.hyperseti: --- Boxcar size: 4 ---\n",
      "[2021-04-25 00:39:04.044340] INFO: hyperseti.hyperseti: Filter time: 0.69ms\n",
      "[2021-04-25 00:39:04.044994] INFO: hyperseti.hyperseti: Dedopp setup time: 1.73ms\n",
      "[2021-04-25 00:39:04.045743] INFO: hyperseti.hyperseti: Dedopp kernel time: 0.12ms\n",
      "[2021-04-25 00:39:05.012456] INFO: hyperseti.hyperseti: Peak find time: 965.89ms\n",
      "[2021-04-25 00:39:05.013360] INFO: hyperseti.hyperseti: Peak find memcopy: 0.18ms\n"
     ]
    }
   ],
   "source": [
    "data = d\n",
    "metadata = md\n",
    "min_dd=None\n",
    "threshold=50\n",
    "min_fdistance=None\n",
    "min_ddistance=None\n",
    "n_boxcar=3\n",
    "merge_boxcar_trials=False\n",
    "apply_normalization=False\n",
    "\n",
    "# t0 = time.time()\n",
    "logger.debug(data.shape)\n",
    "N_timesteps = data.shape[0]\n",
    "_threshold = threshold * np.sqrt(N_timesteps)\n",
    "\n",
    "# Apply preprocessing normalization\n",
    "if apply_normalization:\n",
    "    data = normalize(data, return_space='gpu')\n",
    "\n",
    "\n",
    "peaks = create_empty_hits_table()\n",
    "\n",
    "boxcar_trials = map(int, 2**np.arange(0, n_boxcar))\n",
    "for boxcar_size in boxcar_trials:\n",
    "    logger.info(f\"--- Boxcar size: {boxcar_size} ---\")\n",
    "    dedopp, metadata = dedoppler(data, metadata, boxcar_size=boxcar_size,  boxcar_mode='sum',\n",
    "                                 max_dd=max_dd, min_dd=min_dd, return_space='gpu')\n",
    "\n",
    "    # Adjust SNR threshold to take into account boxcar size and dedoppler sum\n",
    "    # Noise increases by sqrt(N_timesteps * boxcar_size)\n",
    "    _threshold = threshold * np.sqrt(N_timesteps * boxcar_size)\n",
    "    _peaks = hitsearch(dedopp, metadata, threshold=_threshold, min_fdistance=min_fdistance, min_ddistance=min_ddistance)\n",
    "\n",
    "    if _peaks is not None:\n",
    "        _peaks['snr'] /= np.sqrt(N_timesteps * boxcar_size)\n",
    "        peaks = pd.concat((peaks, _peaks), ignore_index=True)\n",
    "\n",
    "if merge_boxcar_trials:\n",
    "    peaks = merge_hits(peaks)\n",
    "\n",
    "# logger.info(f\"Pipeline runtime: {(t1-t0):2.2f}s\")"
   ]
  },
  {
   "cell_type": "code",
   "execution_count": 375,
   "id": "1fc18653",
   "metadata": {},
   "outputs": [
    {
     "data": {
      "text/html": [
       "<div>\n",
       "<style scoped>\n",
       "    .dataframe tbody tr th:only-of-type {\n",
       "        vertical-align: middle;\n",
       "    }\n",
       "\n",
       "    .dataframe tbody tr th {\n",
       "        vertical-align: top;\n",
       "    }\n",
       "\n",
       "    .dataframe thead th {\n",
       "        text-align: right;\n",
       "    }\n",
       "</style>\n",
       "<table border=\"1\" class=\"dataframe\">\n",
       "  <thead>\n",
       "    <tr style=\"text-align: right;\">\n",
       "      <th></th>\n",
       "      <th>driftrate</th>\n",
       "      <th>f_start</th>\n",
       "      <th>snr</th>\n",
       "      <th>driftrate_idx</th>\n",
       "      <th>channel_idx</th>\n",
       "      <th>boxcar_size</th>\n",
       "    </tr>\n",
       "  </thead>\n",
       "  <tbody>\n",
       "    <tr>\n",
       "      <th>0</th>\n",
       "      <td>0.258295</td>\n",
       "      <td>1680.024952</td>\n",
       "      <td>1.024645e+12</td>\n",
       "      <td>131</td>\n",
       "      <td>4832</td>\n",
       "      <td>1</td>\n",
       "    </tr>\n",
       "    <tr>\n",
       "      <th>1</th>\n",
       "      <td>-0.047832</td>\n",
       "      <td>1680.024999</td>\n",
       "      <td>9.988243e+11</td>\n",
       "      <td>99</td>\n",
       "      <td>4815</td>\n",
       "      <td>1</td>\n",
       "    </tr>\n",
       "    <tr>\n",
       "      <th>2</th>\n",
       "      <td>0.220029</td>\n",
       "      <td>1680.024960</td>\n",
       "      <td>9.973713e+11</td>\n",
       "      <td>127</td>\n",
       "      <td>4829</td>\n",
       "      <td>1</td>\n",
       "    </tr>\n",
       "  </tbody>\n",
       "</table>\n",
       "</div>"
      ],
      "text/plain": [
       "   driftrate      f_start           snr  driftrate_idx  channel_idx  \\\n",
       "0   0.258295  1680.024952  1.024645e+12            131         4832   \n",
       "1  -0.047832  1680.024999  9.988243e+11             99         4815   \n",
       "2   0.220029  1680.024960  9.973713e+11            127         4829   \n",
       "\n",
       "   boxcar_size  \n",
       "0            1  \n",
       "1            1  \n",
       "2            1  "
      ]
     },
     "execution_count": 375,
     "metadata": {},
     "output_type": "execute_result"
    }
   ],
   "source": [
    "peaks.head(3)"
   ]
  },
  {
   "cell_type": "code",
   "execution_count": 376,
   "id": "faf15588",
   "metadata": {},
   "outputs": [
    {
     "data": {
      "text/plain": [
       "<matplotlib.image.AxesImage at 0x7f33bcaefd00>"
      ]
     },
     "execution_count": 376,
     "metadata": {},
     "output_type": "execute_result"
    },
    {
     "data": {
      "image/png": "[encoded data removed]",
      "text/plain": [
       "<Figure size 432x288 with 1 Axes>"
      ]
     },
     "metadata": {
      "needs_background": "light"
     },
     "output_type": "display_data"
    }
   ],
   "source": [
    "dedopp_cpu = dedopp.get()\n",
    "show_dedopp = gaussian(dedopp_cpu, sigma=0)[:, 4700:5000]\n",
    "# show_dedopp = dedopp_cpu[:, :200]\n",
    "from skimage.filters import gaussian\n",
    "plt.imshow(equalize_adapthist(show_dedopp / np.max(show_dedopp)), aspect=\"auto\")"
   ]
  },
  {
   "cell_type": "code",
   "execution_count": 361,
   "id": "6a6445f2",
   "metadata": {},
   "outputs": [
    {
     "data": {
      "text/plain": [
       "(209, 8192)"
      ]
     },
     "execution_count": 361,
     "metadata": {},
     "output_type": "execute_result"
    }
   ],
   "source": [
    "dedopp_cpu.shape"
   ]
  },
  {
   "cell_type": "code",
   "execution_count": null,
   "id": "db2b227a",
   "metadata": {},
   "outputs": [],
   "source": []
  }
 ],
 "metadata": {
  "kernelspec": {
   "display_name": "Python 3",
   "language": "python",
   "name": "python3"
  },
  "language_info": {
   "codemirror_mode": {
    "name": "ipython",
    "version": 3
   },
   "file_extension": ".py",
   "mimetype": "text/x-python",
   "name": "python",
   "nbconvert_exporter": "python",
   "pygments_lexer": "ipython3",
   "version": "3.8.2"
  }
 },
 "nbformat": 4,
 "nbformat_minor": 5
}
